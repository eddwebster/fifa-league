{
 "cells": [
  {
   "cell_type": "markdown",
   "metadata": {},
   "source": [
    "<a id='top'></a>"
   ]
  },
  {
   "cell_type": "markdown",
   "metadata": {},
   "source": [
    "# FIFA 20 and TransferMarkt Fantasy Football\n",
    "### By [Edd Webster](https://www.twitter.com/eddwebster)\n",
    "Notebook last updated: 25/04/2020"
   ]
  },
  {
   "cell_type": "markdown",
   "metadata": {},
   "source": [
    "![title](img/fifa20banner.jpg)"
   ]
  },
  {
   "cell_type": "markdown",
   "metadata": {},
   "source": [
    "Click [here](#section5) to jump straight to the Analysis of the players and skip the [Task Brief](#section2), [Data Sources](#section3), and [Data Engineering](#section4) sections. Or click [here](#section6) to jump straight to the Summary."
   ]
  },
  {
   "cell_type": "markdown",
   "metadata": {},
   "source": [
    "## Introduction\n",
    "This notebook goes through a data clensing, merging and Exploratory Data Analysis (EDA) of the the [EA FIFA 20](https://www.ea.com/en-gb/games/fifa/fifa-20) dataset merged with player values (£) from [TransferMarkt](https://www.transfermarkt.co.uk/). This workbook includes data scraping, cleaning, exploration and analysis using Python and [pandas](http://pandas.pydata.org/) library; the creation of  visualisations using [Seaborn](https://seaborn.pydata.org/); web scraping data from webpages using the [Beautifulsoup](https://www.crummy.com/software/BeautifulSoup/bs4/doc/) library; and matching two datasets with no corresponding primary keys using the [fuzzymatcher](https://github.com/RobinL/fuzzymatcher) library.\n",
    "\n",
    "For more information about this notebook and the author, I'm available through all the following channels:\n",
    "*    [eddwebster.com](https://www.eddwebster.com/),\n",
    "*    edd.j.webster@gmail.com,\n",
    "*    [@eddwebster](https://www.twitter.com/eddwebster),\n",
    "*    [LinkedIn.com/in/eddwebster](https://www.linkedin.com/in/eddwebster/),\n",
    "*    [GitHub/eddwebster](https://github.com/eddwebster/),\n",
    "*    [Kaggle.com/eddwebster](https://www.kaggle.com/eddwebster), and\n",
    "*    [HackerRank.com/eddwebster](https://www.hackerrank.com/eddwebster)."
   ]
  },
  {
   "cell_type": "markdown",
   "metadata": {},
   "source": [
    "![title](img/fifa20eddwebsterbanner.png)"
   ]
  },
  {
   "cell_type": "markdown",
   "metadata": {},
   "source": [
    "The accompanying GitHub repository for this notebook can be found [here](https://github.com/eddwebster/fifa-league) and a static version of this notebook can be found [here](https://nbviewer.jupyter.org/github/eddwebster/fifa-league/blob/master/FIFA%2020%20Fantasy%20Football%20League%20using%20TransferMarkt%20Player%20Valuations.ipynb). The accompanying Microsoft Excel workbook that can be used to track a tournment for up to 24 players can be downloaded [here](https://www.eddwebster.com/downloads/fifa_20_fantasy_football_league.xlsm)."
   ]
  },
  {
   "cell_type": "markdown",
   "metadata": {},
   "source": [
    "<a id='sectioncontents'></a>"
   ]
  },
  {
   "cell_type": "markdown",
   "metadata": {},
   "source": [
    "## Notebook Contents\n",
    "1.    [Notebook Setup](#section1)<br><br>\n",
    "\n",
    "2.    [Notebook Brief](#section2)<br><br>\n",
    "      \n",
    "3.    [Data Sources](#section3)<br>\n",
    "      3.1.    [Introduction](#section3.1)<br>\n",
    "      3.2.    [FIFA 20 Database](#section3.2)<br>\n",
    "         -    [Data Dictionary](#section3.2.1)<br>\n",
    "         -    [Creating the DataFrame](#section3.2.3)<br>\n",
    "         -    [Initial Data Handling](#section3.2.3)<br>\n",
    "      \n",
    "      3.3.    [TransferMarkt Database](#section3.3)<br>\n",
    "         -    [Data Dictionary](#section3.2.1)<br>\n",
    "         -    [Creating the DataFrame](#section3.2.3)<br>\n",
    "         -    [Initial Data Handling](#section3.2.3)<br><br>\n",
    "         \n",
    "4.    [Data Engineering](#section4)<br>\n",
    "      4.1.  [Introduction](#section4.1)<br>\n",
    "      4.2.  [FIFA 20 Database](#section4.2)<br>\n",
    "         -    [Columns of Interest](#section4.2.1)<br>\n",
    "         -    [Converting Data Types](#section4.2.2)<br>\n",
    "         -    [Export the Engineered DataFrame](#section4.2.3)<br>\n",
    "         \n",
    "      4.3.  [TransferMarkt Database](#section4.3)<br>\n",
    "         -    [String Cleaning](#section4.3.1)<br>\n",
    "         -    [Converting Data Types](#section4.3.2)<br>\n",
    "         -    [Columns of Interest](#section4.3.3)<br>\n",
    "         -    [Export the Engineered DataFrame](#section4.3.4)<br>\n",
    "         \n",
    "      4.4.  [Joined Database](#section4.4)<br>\n",
    "         -    [Join the Datasets using fuzzymatcher](#section4.4.1)<br>\n",
    "         -    [Fix Bad Matches](#section4.4.2)<br>\n",
    "         -    [Reorganise the New Dataset](#section4.4.3)<br>\n",
    "         -    [Export the Joined DataFrame](#section4.4.4)<br><br>   \n",
    "5.    [Exploratory Data Analysis](#section5)<br>\n",
    "      5.1.  [Creation of New Metrics](#section5.1)<br>\n",
    "      5.2.  [Analysis](#section5.2)<br>\n",
    "         -    [Bargain Players (under £1mil, 74+ rating)](#section5.2.1)<br>\n",
    "         -    [Value for Money Players (under £15mil, 84+ rating)](#section5.2.2)<br>\n",
    "         -    [Value for Money Players with pace (under 15mil, 84+ rating, 70+ pace)](#section5.2.3)<br>\n",
    "         -    [Elite Players at a Cut Price  (under £60mil, 85+ rating)](#section5.2.4)<br><br>  \n",
    "6.    [Summary](#section6)<br><br>\n",
    "\n",
    "7.    [Next Steps](#section7)<br><br>\n",
    "\n",
    "8.    [References](#section8)<br>\n",
    "      8.1.  [Bibliography](#section8.1)<br>\n",
    "      8.2.  [Python Techniques Observed](#section8.2)<br>"
   ]
  },
  {
   "cell_type": "markdown",
   "metadata": {},
   "source": [
    "<a id='section1'></a>"
   ]
  },
  {
   "cell_type": "markdown",
   "metadata": {},
   "source": [
    "## 1. Notebook Contents"
   ]
  },
  {
   "cell_type": "markdown",
   "metadata": {},
   "source": [
    "This notebook was written using [Python 3](https://docs.python.org/3.7/) and requires the following libraries:\n",
    "*    [Jupyter notebooks](https://jupyter.org/) for this interactive computational environment that the project is presented,\n",
    "*    [NumPy](http://www.numpy.org/) for multidimensional array computing,\n",
    "*    [pandas](http://pandas.pydata.org/) for data manipulation and ingestion,\n",
    "*    [Seaborn](https://seaborn.pydata.org/) for plotting visualisations,\n",
    "*    [Beautifulsoup](https://www.crummy.com/software/BeautifulSoup/bs4/doc/) for scraping data from webpages, and\n",
    "*    [fuzzymatcher](https://github.com/RobinL/fuzzymatcher) for linking fuzzy datasets with no corresponding primary keys.\n",
    "\n",
    "All packages used for this notebook except for [Beautifulsoup](https://www.crummy.com/software/BeautifulSoup/bs4/doc/) and [fuzzymatcher](https://github.com/RobinL/fuzzymatcher) can be obtained by downloading and installing the [Conda](https://anaconda.org/anaconda/conda) distribution, available on all platforms (Windows, Linux and Mac OSX). Step-by-step guides on how to install Anaconda can be found for Windows [here](https://medium.com/@GalarnykMichael/install-python-on-windows-anaconda-c63c7c3d1444) and Mac [here](https://medium.com/@GalarnykMichael/install-python-on-mac-anaconda-ccd9f2014072), as well as in the Anaconda documentation itself [here](https://docs.anaconda.com/anaconda/install/)."
   ]
  },
  {
   "cell_type": "code",
   "execution_count": 1,
   "metadata": {},
   "outputs": [
    {
     "name": "stdout",
     "output_type": "stream",
     "text": [
      "Setup Complete\n"
     ]
    }
   ],
   "source": [
    "# All packages listed below (except for the few where otherwise stated) can be obtained by downloading and installing the Conda distribution, available on all platforms (Windows, Linux and Mac OSX) here: https://anaconda.org/anaconda/conda\n",
    "\n",
    "# Import modules\n",
    "\n",
    "# Python ≥3.5 (ideally)\n",
    "import platform\n",
    "import sys\n",
    "assert sys.version_info >= (3, 5)\n",
    "\n",
    "# Import Dependencies\n",
    "%matplotlib inline\n",
    "\n",
    "# Math Operations\n",
    "import numpy as np\n",
    "\n",
    "# Data Preprocessing\n",
    "import pandas as pd\n",
    "\n",
    "# Data Scraping\n",
    "import requests\n",
    "from bs4 import BeautifulSoup\n",
    "\n",
    "# Joining datasets\n",
    "from pathlib import Path\n",
    "import fuzzymatcher\n",
    "\n",
    "# Date and time manipulation\n",
    "from datetime import datetime\n",
    "\n",
    "# Data Visualisation\n",
    "import matplotlib as mpl\n",
    "import matplotlib.pyplot as plt\n",
    "import seaborn as sns\n",
    "plt.style.use('seaborn-whitegrid')\n",
    "from matplotlib.patches import Arc\n",
    "import missingno as msno    # not include with Conda, 'pip install missingno' in the terminal if you don't have it\n",
    "\n",
    "# Display in Jupyter\n",
    "from IPython.display import Image\n",
    "from IPython.core.display import HTML\n",
    "\n",
    "# Ignore warnings\n",
    "import warnings\n",
    "warnings.filterwarnings(action=\"ignore\", message=\"^internal gelsd\")\n",
    "\n",
    "print(\"Setup Complete\")"
   ]
  },
  {
   "cell_type": "code",
   "execution_count": 2,
   "metadata": {},
   "outputs": [
    {
     "name": "stdout",
     "output_type": "stream",
     "text": [
      "Python: 3.7.6\n",
      "NumPy: 1.18.1\n",
      "pandas: 1.0.1\n",
      "matplotlib: 3.1.3\n",
      "Seaborn: 0.10.0\n"
     ]
    }
   ],
   "source": [
    "# Python / module versions used here for reference\n",
    "print('Python: {}'.format(platform.python_version()))\n",
    "print('NumPy: {}'.format(np.__version__))\n",
    "print('pandas: {}'.format(pd.__version__))\n",
    "print('matplotlib: {}'.format(mpl.__version__))\n",
    "print('Seaborn: {}'.format(sns.__version__))"
   ]
  },
  {
   "cell_type": "markdown",
   "metadata": {},
   "source": [
    "<a id='section2'></a>"
   ]
  },
  {
   "cell_type": "markdown",
   "metadata": {},
   "source": [
    "## 2. Notebook Brief\n",
    "The objective of this notebook originates from a fantasy football-style league myself and my friends would play with the FIFA video games as students. The concept is simple - choose the best team you can with a budget of £X mil (usually between £250-£300mil to keep the game interesting). However, instead of using the poorly estimated values in the FIFA game, we instead decided to use live, real-life value estimations of players from [TransferMarkt](https://www.transfermarkt.co.uk/), which we found to be a much more reasonable measurement of a player's value on the market at the time.\n",
    "\n",
    "The process was simple in the early days. We would pick are favourite players, look up their value up on [TransferMarkt](https://www.transfermarkt.co.uk/) and see if after choosing a playing squad of 18 that it fell within the the arbitrary budget. This soon became more sophisticated, through the use of Excel spreadsheets (the latest version can be found [here](). Around six years later, after learning Python, I decided to pick this up project and write a formal script in Python that first scrapes and compiles the datasets, and then takes this one to conduct some rudimentary analysis, helping to automate the manual process of finding the best value players.\n",
    "\n",
    "In this notebook, I will demonstrate how to take two data sources - [FIFA 20](https://www.ea.com/en-gb/games/fifa/fifa-20) and [TransferMarkt](https://www.transfermarkt.co.uk/), merge them to form one concise dataset, and then analyse and explore the statistics of all the footballers the dataset to build the most effective, best-value Fantasy Football squad possible."
   ]
  },
  {
   "cell_type": "markdown",
   "metadata": {},
   "source": [
    "<a id='section3'></a>"
   ]
  },
  {
   "cell_type": "markdown",
   "metadata": {},
   "source": [
    "## 3. Data Sources"
   ]
  },
  {
   "cell_type": "markdown",
   "metadata": {},
   "source": [
    "### 3.1. Introduction\n",
    "This Data Sources section has been has been split into the two datasets that are to be worked on:\n",
    "*   The [FIFA 20](https://www.ea.com/en-gb/games/fifa/fifa-20) squad file for player names and ratings - `data_fifa20.csv` ([section 3.2](#section3.2)), downloaded from [Kaggle](https://www.kaggle.com/stefanoleone992/fifa-20-complete-player-dataset); and\n",
    "*   Scraped player data from [TransferMarkt](https://www.transfermarkt.co.uk/) for real-world transfer values of players in GBP (£) ([section 3.3](#section3.3)).\n",
    "\n",
    "These data sources are then engineered ([section 4](#section4)) and then later joined to create a single DataFrame ([section 4.4](#section4.4)) before ending with the analysis of who the best value players are ([section 5](#section5))."
   ]
  },
  {
   "cell_type": "markdown",
   "metadata": {},
   "source": [
    "<a id='section3.2'></a>"
   ]
  },
  {
   "cell_type": "markdown",
   "metadata": {},
   "source": [
    "### 3.2. FIFA 20\n",
    "This [FIFA 20](https://www.ea.com/en-gb/games/fifa/fifa-20) dataset was downloaded from [Kaggle](https://www.kaggle.com/stefanoleone992/fifa-20-complete-player-dataset), made available by [Stefano Leone](https://www.kaggle.com/stefanoleone992). This download includes FIFA databases from years 15 to 20.\n",
    "\n",
    "EA Sport's [FIFA 20](https://www.ea.com/en-gb/games/fifa/fifa-20) database has [over 17,000 players from over 700 clubs, from over 30 official leagues](https://en.wikipedia.org/wiki/FIFA_20#Licenses) all across the world. Each player has recorded details including: 'Name', 'Age', 'Nationality', 'Position', 'Height' , as well as in-game ratings for attributes such as 'Acceleration', 'Stamina', 'Tackling', 'Vision'."
   ]
  },
  {
   "cell_type": "markdown",
   "metadata": {},
   "source": [
    "<a id='section3.2.1'></a>"
   ]
  },
  {
   "cell_type": "markdown",
   "metadata": {},
   "source": [
    "#### 3.2.1. Data Dictionary\n",
    "The [FIFA 20](https://www.ea.com/en-gb/games/fifa/fifa-20) dataset has one hundered and four features (columns) with the following definitions and data types:\n",
    "\n",
    "| Feature     | Data type    |\n",
    "|------|-----|\n",
    "| `sofifa_id`    | int64     |\n",
    "| `player_url`    | object     |\n",
    "| `short_name`    | object     |\n",
    "| `long_name`    | object     |\n",
    "| `age`    | int64     |\n",
    "| `dob`    | object     |\n",
    "| `height_cm`    | int64     |\n",
    "| `weight_kg`    | int64     |\n",
    "| `nationality`    | object     |\n",
    "| `club`    | object     |\n",
    "| `overall`    | int64     |\n",
    "| `potential`    | int64     |\n",
    "| `value_eur`    | int64     |\n",
    "| `wage_eur`    | int64     |\n",
    "| `player_positions`    | object     |\n",
    "| `preferred_foot`    | object     |\n",
    "| `international_reputation`    | int64     |\n",
    "| `weak_foot`    | int64     |\n",
    "| `skill_moves`    | int64     |\n",
    "| `work_rate`    | object     |\n",
    "| `body_type`    | object     |\n",
    "| `real_face`    | object     |\n",
    "| `release_clause_eur`    | float64     |\n",
    "| `player_tags`    | object     |\n",
    "| `team_position`    | object     |\n",
    "| `team_jersey_number`    | float64     |\n",
    "| `loaned_from`    | object     |\n",
    "| `joined`    | object     |\n",
    "| `contract_valid_until`    | float64     |\n",
    "| `nation_position`    | object     |\n",
    "| `nation_jersey_number`    | float64     |\n",
    "| `pace`    | float64     |\n",
    "| `shooting`    | float64     |\n",
    "| `passing`    | float64     |\n",
    "| `dribbling`    | float64     |\n",
    "| `defending`    | float64     |\n",
    "| `physic`    | float64     |\n",
    "| `gk_diving`    | float64     |\n",
    "| `gk_handling`    | float64     |\n",
    "| `gk_kicking`    | float64     |\n",
    "| `gk_reflexes`    | float64     |\n",
    "| `gk_speed`    | float64     |\n",
    "| `gk_positioning`    | float64     |\n",
    "| `player_traits`    | object     |\n",
    "| `attacking_crossing`    | int64     |\n",
    "| `attacking_finishing`    | int64     |\n",
    "| `attacking_heading_accuracy`    | int64     |\n",
    "| `attacking_short_passing`    | int64     |\n",
    "| `attacking_volleys`    | int64     |\n",
    "| `skill_dribbling`    | int64     |\n",
    "| `skill_curve`    | int64     |\n",
    "| `skill_fk_accuracy`    | int64     |\n",
    "| `skill_long_passing`    | int64     |\n",
    "| `skill_ball_control`    | int64     |\n",
    "| `movement_acceleration`    | int64     |\n",
    "| `movement_sprint_speed`    | int64     |\n",
    "| `movement_agility`    | int64     |\n",
    "| `movement_reactions`    | int64     |\n",
    "| `movement_balance`    | int64     |\n",
    "| `power_shot_power`    | int64     |\n",
    "| `power_jumping`    | int64     |\n",
    "| `power_stamina`    | int64     |\n",
    "| `power_strength`    | int64     |\n",
    "| `power_long_shots`    | int64     |\n",
    "| `mentality_aggression`    | int64     |\n",
    "| `mentality_interceptions`    | int64     |\n",
    "| `mentality_positioning`    | int64     |\n",
    "| `mentality_vision`    | int64     |\n",
    "| `mentality_penalties`    | int64     |\n",
    "| `mentality_composure`    | int64     |\n",
    "| `defending_marking`    | int64     |\n",
    "| `defending_standing_tackle`    | int64     |\n",
    "| `defending_sliding_tackle`    | int64     |\n",
    "| `goalkeeping_diving`    | int64     |\n",
    "| `goalkeeping_handling`    | int64     |\n",
    "| `goalkeeping_kicking`    | int64     |\n",
    "| `goalkeeping_positioning`    | int64     |\n",
    "| `goalkeeping_reflexes`    | int64     |\n",
    "| `ls`    | object     |\n",
    "| `st`    | object     |\n",
    "| `rs`    | object     |\n",
    "| `lw`    | object     |\n",
    "| `lf`    | object     |\n",
    "| `cf`    | object     |\n",
    "| `rf`    | object     |\n",
    "| `rw`    | object     |\n",
    "| `lam`    | object     |\n",
    "| `cam`    | object     |\n",
    "| `ram`    | object     |\n",
    "| `lm`    | object     |\n",
    "| `lcm`    | object     |\n",
    "| `cm`    | object     |\n",
    "| `rcm`    | object     |\n",
    "| `rm`    | object     |\n",
    "| `lwb`    | object     |\n",
    "| `ldm`    | object     |\n",
    "| `cdm`    | object     |\n",
    "| `rdm`    | object     |\n",
    "| `rwb`    | object     |\n",
    "| `lb`    | object     |\n",
    "| `lcb`    | object     |\n",
    "| `cb`    | object     |\n",
    "| `rcb`    | object     |\n",
    "| `rb`    | object     |\n",
    "\n",
    "It should be stated that the [FIFA 20](https://www.ea.com/en-gb/games/fifa/fifa-20) database does include values on players in the column `value_eur`. However, those that have played the game will know that these are quite inaccurate compared to real-world values and for these reason, we will be sourcing much more accurate player values from [TransferMarkt](https://www.transfermarkt.co.uk/) in [section 3.3](#section3.3)."
   ]
  },
  {
   "cell_type": "markdown",
   "metadata": {},
   "source": [
    "<a id='section3.2.2'></a>"
   ]
  },
  {
   "cell_type": "markdown",
   "metadata": {},
   "source": [
    "#### 3.2.2. Creating the DataFrame"
   ]
  },
  {
   "cell_type": "code",
   "execution_count": 3,
   "metadata": {},
   "outputs": [],
   "source": [
    "# Set up initial path to data\n",
    "dataDir = r'data/'"
   ]
  },
  {
   "cell_type": "code",
   "execution_count": 4,
   "metadata": {},
   "outputs": [],
   "source": [
    "# Import data as a DataFrame called 'df_original'. To use in wrangling process before creating 'df' DataFrame for analysis\n",
    "file_fifa20 = \"data_fifa20.csv\"\n",
    "filepath_fifa20 = dataDir + file_fifa20\n",
    "df_fifa_raw = pd.read_csv(filepath_fifa20)"
   ]
  },
  {
   "cell_type": "markdown",
   "metadata": {},
   "source": [
    "<a id='section3.2.3'></a>"
   ]
  },
  {
   "cell_type": "markdown",
   "metadata": {},
   "source": [
    "#### 3.2.3. Initial Data Handling\n",
    "Let's quality of the dataset by looking first and last rows in pandas using the [head()](https://pandas.pydata.org/pandas-docs/stable/reference/api/pandas.DataFrame.head.html) and [tail()](https://pandas.pydata.org/pandas-docs/stable/reference/api/pandas.DataFrame.tail.html) methods."
   ]
  },
  {
   "cell_type": "code",
   "execution_count": 5,
   "metadata": {},
   "outputs": [
    {
     "data": {
      "text/html": [
       "<div>\n",
       "<style scoped>\n",
       "    .dataframe tbody tr th:only-of-type {\n",
       "        vertical-align: middle;\n",
       "    }\n",
       "\n",
       "    .dataframe tbody tr th {\n",
       "        vertical-align: top;\n",
       "    }\n",
       "\n",
       "    .dataframe thead th {\n",
       "        text-align: right;\n",
       "    }\n",
       "</style>\n",
       "<table border=\"1\" class=\"dataframe\">\n",
       "  <thead>\n",
       "    <tr style=\"text-align: right;\">\n",
       "      <th></th>\n",
       "      <th>sofifa_id</th>\n",
       "      <th>player_url</th>\n",
       "      <th>short_name</th>\n",
       "      <th>long_name</th>\n",
       "      <th>age</th>\n",
       "      <th>dob</th>\n",
       "      <th>height_cm</th>\n",
       "      <th>weight_kg</th>\n",
       "      <th>nationality</th>\n",
       "      <th>club</th>\n",
       "      <th>...</th>\n",
       "      <th>lwb</th>\n",
       "      <th>ldm</th>\n",
       "      <th>cdm</th>\n",
       "      <th>rdm</th>\n",
       "      <th>rwb</th>\n",
       "      <th>lb</th>\n",
       "      <th>lcb</th>\n",
       "      <th>cb</th>\n",
       "      <th>rcb</th>\n",
       "      <th>rb</th>\n",
       "    </tr>\n",
       "  </thead>\n",
       "  <tbody>\n",
       "    <tr>\n",
       "      <th>0</th>\n",
       "      <td>158023</td>\n",
       "      <td>https://sofifa.com/player/158023/lionel-messi/...</td>\n",
       "      <td>L. Messi</td>\n",
       "      <td>Lionel Andrés Messi Cuccittini</td>\n",
       "      <td>32</td>\n",
       "      <td>1987-06-24</td>\n",
       "      <td>170</td>\n",
       "      <td>72</td>\n",
       "      <td>Argentina</td>\n",
       "      <td>FC Barcelona</td>\n",
       "      <td>...</td>\n",
       "      <td>68+2</td>\n",
       "      <td>66+2</td>\n",
       "      <td>66+2</td>\n",
       "      <td>66+2</td>\n",
       "      <td>68+2</td>\n",
       "      <td>63+2</td>\n",
       "      <td>52+2</td>\n",
       "      <td>52+2</td>\n",
       "      <td>52+2</td>\n",
       "      <td>63+2</td>\n",
       "    </tr>\n",
       "    <tr>\n",
       "      <th>1</th>\n",
       "      <td>20801</td>\n",
       "      <td>https://sofifa.com/player/20801/c-ronaldo-dos-...</td>\n",
       "      <td>Cristiano Ronaldo</td>\n",
       "      <td>Cristiano Ronaldo dos Santos Aveiro</td>\n",
       "      <td>34</td>\n",
       "      <td>1985-02-05</td>\n",
       "      <td>187</td>\n",
       "      <td>83</td>\n",
       "      <td>Portugal</td>\n",
       "      <td>Juventus</td>\n",
       "      <td>...</td>\n",
       "      <td>65+3</td>\n",
       "      <td>61+3</td>\n",
       "      <td>61+3</td>\n",
       "      <td>61+3</td>\n",
       "      <td>65+3</td>\n",
       "      <td>61+3</td>\n",
       "      <td>53+3</td>\n",
       "      <td>53+3</td>\n",
       "      <td>53+3</td>\n",
       "      <td>61+3</td>\n",
       "    </tr>\n",
       "    <tr>\n",
       "      <th>2</th>\n",
       "      <td>190871</td>\n",
       "      <td>https://sofifa.com/player/190871/neymar-da-sil...</td>\n",
       "      <td>Neymar Jr</td>\n",
       "      <td>Neymar da Silva Santos Junior</td>\n",
       "      <td>27</td>\n",
       "      <td>1992-02-05</td>\n",
       "      <td>175</td>\n",
       "      <td>68</td>\n",
       "      <td>Brazil</td>\n",
       "      <td>Paris Saint-Germain</td>\n",
       "      <td>...</td>\n",
       "      <td>66+3</td>\n",
       "      <td>61+3</td>\n",
       "      <td>61+3</td>\n",
       "      <td>61+3</td>\n",
       "      <td>66+3</td>\n",
       "      <td>61+3</td>\n",
       "      <td>46+3</td>\n",
       "      <td>46+3</td>\n",
       "      <td>46+3</td>\n",
       "      <td>61+3</td>\n",
       "    </tr>\n",
       "    <tr>\n",
       "      <th>3</th>\n",
       "      <td>200389</td>\n",
       "      <td>https://sofifa.com/player/200389/jan-oblak/20/...</td>\n",
       "      <td>J. Oblak</td>\n",
       "      <td>Jan Oblak</td>\n",
       "      <td>26</td>\n",
       "      <td>1993-01-07</td>\n",
       "      <td>188</td>\n",
       "      <td>87</td>\n",
       "      <td>Slovenia</td>\n",
       "      <td>Atlético Madrid</td>\n",
       "      <td>...</td>\n",
       "      <td>NaN</td>\n",
       "      <td>NaN</td>\n",
       "      <td>NaN</td>\n",
       "      <td>NaN</td>\n",
       "      <td>NaN</td>\n",
       "      <td>NaN</td>\n",
       "      <td>NaN</td>\n",
       "      <td>NaN</td>\n",
       "      <td>NaN</td>\n",
       "      <td>NaN</td>\n",
       "    </tr>\n",
       "    <tr>\n",
       "      <th>4</th>\n",
       "      <td>183277</td>\n",
       "      <td>https://sofifa.com/player/183277/eden-hazard/2...</td>\n",
       "      <td>E. Hazard</td>\n",
       "      <td>Eden Hazard</td>\n",
       "      <td>28</td>\n",
       "      <td>1991-01-07</td>\n",
       "      <td>175</td>\n",
       "      <td>74</td>\n",
       "      <td>Belgium</td>\n",
       "      <td>Real Madrid</td>\n",
       "      <td>...</td>\n",
       "      <td>66+3</td>\n",
       "      <td>63+3</td>\n",
       "      <td>63+3</td>\n",
       "      <td>63+3</td>\n",
       "      <td>66+3</td>\n",
       "      <td>61+3</td>\n",
       "      <td>49+3</td>\n",
       "      <td>49+3</td>\n",
       "      <td>49+3</td>\n",
       "      <td>61+3</td>\n",
       "    </tr>\n",
       "  </tbody>\n",
       "</table>\n",
       "<p>5 rows × 104 columns</p>\n",
       "</div>"
      ],
      "text/plain": [
       "   sofifa_id                                         player_url  \\\n",
       "0     158023  https://sofifa.com/player/158023/lionel-messi/...   \n",
       "1      20801  https://sofifa.com/player/20801/c-ronaldo-dos-...   \n",
       "2     190871  https://sofifa.com/player/190871/neymar-da-sil...   \n",
       "3     200389  https://sofifa.com/player/200389/jan-oblak/20/...   \n",
       "4     183277  https://sofifa.com/player/183277/eden-hazard/2...   \n",
       "\n",
       "          short_name                            long_name  age         dob  \\\n",
       "0           L. Messi       Lionel Andrés Messi Cuccittini   32  1987-06-24   \n",
       "1  Cristiano Ronaldo  Cristiano Ronaldo dos Santos Aveiro   34  1985-02-05   \n",
       "2          Neymar Jr        Neymar da Silva Santos Junior   27  1992-02-05   \n",
       "3           J. Oblak                            Jan Oblak   26  1993-01-07   \n",
       "4          E. Hazard                          Eden Hazard   28  1991-01-07   \n",
       "\n",
       "   height_cm  weight_kg nationality                 club  ...   lwb   ldm  \\\n",
       "0        170         72   Argentina         FC Barcelona  ...  68+2  66+2   \n",
       "1        187         83    Portugal             Juventus  ...  65+3  61+3   \n",
       "2        175         68      Brazil  Paris Saint-Germain  ...  66+3  61+3   \n",
       "3        188         87    Slovenia      Atlético Madrid  ...   NaN   NaN   \n",
       "4        175         74     Belgium          Real Madrid  ...  66+3  63+3   \n",
       "\n",
       "    cdm   rdm   rwb    lb   lcb    cb   rcb    rb  \n",
       "0  66+2  66+2  68+2  63+2  52+2  52+2  52+2  63+2  \n",
       "1  61+3  61+3  65+3  61+3  53+3  53+3  53+3  61+3  \n",
       "2  61+3  61+3  66+3  61+3  46+3  46+3  46+3  61+3  \n",
       "3   NaN   NaN   NaN   NaN   NaN   NaN   NaN   NaN  \n",
       "4  63+3  63+3  66+3  61+3  49+3  49+3  49+3  61+3  \n",
       "\n",
       "[5 rows x 104 columns]"
      ]
     },
     "execution_count": 5,
     "metadata": {},
     "output_type": "execute_result"
    }
   ],
   "source": [
    "# Display the first 5 rows of the raw DataFrame, df_fifa_raw\n",
    "df_fifa_raw.head()"
   ]
  },
  {
   "cell_type": "code",
   "execution_count": 6,
   "metadata": {},
   "outputs": [
    {
     "data": {
      "text/html": [
       "<div>\n",
       "<style scoped>\n",
       "    .dataframe tbody tr th:only-of-type {\n",
       "        vertical-align: middle;\n",
       "    }\n",
       "\n",
       "    .dataframe tbody tr th {\n",
       "        vertical-align: top;\n",
       "    }\n",
       "\n",
       "    .dataframe thead th {\n",
       "        text-align: right;\n",
       "    }\n",
       "</style>\n",
       "<table border=\"1\" class=\"dataframe\">\n",
       "  <thead>\n",
       "    <tr style=\"text-align: right;\">\n",
       "      <th></th>\n",
       "      <th>sofifa_id</th>\n",
       "      <th>player_url</th>\n",
       "      <th>short_name</th>\n",
       "      <th>long_name</th>\n",
       "      <th>age</th>\n",
       "      <th>dob</th>\n",
       "      <th>height_cm</th>\n",
       "      <th>weight_kg</th>\n",
       "      <th>nationality</th>\n",
       "      <th>club</th>\n",
       "      <th>...</th>\n",
       "      <th>lwb</th>\n",
       "      <th>ldm</th>\n",
       "      <th>cdm</th>\n",
       "      <th>rdm</th>\n",
       "      <th>rwb</th>\n",
       "      <th>lb</th>\n",
       "      <th>lcb</th>\n",
       "      <th>cb</th>\n",
       "      <th>rcb</th>\n",
       "      <th>rb</th>\n",
       "    </tr>\n",
       "  </thead>\n",
       "  <tbody>\n",
       "    <tr>\n",
       "      <th>18273</th>\n",
       "      <td>245006</td>\n",
       "      <td>https://sofifa.com/player/245006/shuai-shao/20...</td>\n",
       "      <td>Shao Shuai</td>\n",
       "      <td>邵帅</td>\n",
       "      <td>22</td>\n",
       "      <td>1997-03-10</td>\n",
       "      <td>186</td>\n",
       "      <td>79</td>\n",
       "      <td>China PR</td>\n",
       "      <td>Beijing Renhe FC</td>\n",
       "      <td>...</td>\n",
       "      <td>43+2</td>\n",
       "      <td>42+2</td>\n",
       "      <td>42+2</td>\n",
       "      <td>42+2</td>\n",
       "      <td>43+2</td>\n",
       "      <td>45+2</td>\n",
       "      <td>46+2</td>\n",
       "      <td>46+2</td>\n",
       "      <td>46+2</td>\n",
       "      <td>45+2</td>\n",
       "    </tr>\n",
       "    <tr>\n",
       "      <th>18274</th>\n",
       "      <td>250995</td>\n",
       "      <td>https://sofifa.com/player/250995/mingjie-xiao/...</td>\n",
       "      <td>Xiao Mingjie</td>\n",
       "      <td>Mingjie Xiao</td>\n",
       "      <td>22</td>\n",
       "      <td>1997-01-01</td>\n",
       "      <td>177</td>\n",
       "      <td>66</td>\n",
       "      <td>China PR</td>\n",
       "      <td>Shanghai SIPG FC</td>\n",
       "      <td>...</td>\n",
       "      <td>44+2</td>\n",
       "      <td>43+2</td>\n",
       "      <td>43+2</td>\n",
       "      <td>43+2</td>\n",
       "      <td>44+2</td>\n",
       "      <td>46+2</td>\n",
       "      <td>47+2</td>\n",
       "      <td>47+2</td>\n",
       "      <td>47+2</td>\n",
       "      <td>46+2</td>\n",
       "    </tr>\n",
       "    <tr>\n",
       "      <th>18275</th>\n",
       "      <td>252332</td>\n",
       "      <td>https://sofifa.com/player/252332/wei-zhang/20/...</td>\n",
       "      <td>Zhang Wei</td>\n",
       "      <td>张威</td>\n",
       "      <td>19</td>\n",
       "      <td>2000-05-16</td>\n",
       "      <td>186</td>\n",
       "      <td>75</td>\n",
       "      <td>China PR</td>\n",
       "      <td>Hebei China Fortune FC</td>\n",
       "      <td>...</td>\n",
       "      <td>47+2</td>\n",
       "      <td>49+2</td>\n",
       "      <td>49+2</td>\n",
       "      <td>49+2</td>\n",
       "      <td>47+2</td>\n",
       "      <td>47+2</td>\n",
       "      <td>49+2</td>\n",
       "      <td>49+2</td>\n",
       "      <td>49+2</td>\n",
       "      <td>47+2</td>\n",
       "    </tr>\n",
       "    <tr>\n",
       "      <th>18276</th>\n",
       "      <td>251110</td>\n",
       "      <td>https://sofifa.com/player/251110/haijian-wang/...</td>\n",
       "      <td>Wang Haijian</td>\n",
       "      <td>汪海健</td>\n",
       "      <td>18</td>\n",
       "      <td>2000-08-02</td>\n",
       "      <td>185</td>\n",
       "      <td>74</td>\n",
       "      <td>China PR</td>\n",
       "      <td>Shanghai Greenland Shenhua FC</td>\n",
       "      <td>...</td>\n",
       "      <td>48+2</td>\n",
       "      <td>48+2</td>\n",
       "      <td>48+2</td>\n",
       "      <td>48+2</td>\n",
       "      <td>48+2</td>\n",
       "      <td>48+2</td>\n",
       "      <td>49+2</td>\n",
       "      <td>49+2</td>\n",
       "      <td>49+2</td>\n",
       "      <td>48+2</td>\n",
       "    </tr>\n",
       "    <tr>\n",
       "      <th>18277</th>\n",
       "      <td>233449</td>\n",
       "      <td>https://sofifa.com/player/233449/ximing-pan/20...</td>\n",
       "      <td>Pan Ximing</td>\n",
       "      <td>潘喜明</td>\n",
       "      <td>26</td>\n",
       "      <td>1993-01-11</td>\n",
       "      <td>182</td>\n",
       "      <td>78</td>\n",
       "      <td>China PR</td>\n",
       "      <td>Hebei China Fortune FC</td>\n",
       "      <td>...</td>\n",
       "      <td>48+2</td>\n",
       "      <td>49+2</td>\n",
       "      <td>49+2</td>\n",
       "      <td>49+2</td>\n",
       "      <td>48+2</td>\n",
       "      <td>48+2</td>\n",
       "      <td>50+2</td>\n",
       "      <td>50+2</td>\n",
       "      <td>50+2</td>\n",
       "      <td>48+2</td>\n",
       "    </tr>\n",
       "  </tbody>\n",
       "</table>\n",
       "<p>5 rows × 104 columns</p>\n",
       "</div>"
      ],
      "text/plain": [
       "       sofifa_id                                         player_url  \\\n",
       "18273     245006  https://sofifa.com/player/245006/shuai-shao/20...   \n",
       "18274     250995  https://sofifa.com/player/250995/mingjie-xiao/...   \n",
       "18275     252332  https://sofifa.com/player/252332/wei-zhang/20/...   \n",
       "18276     251110  https://sofifa.com/player/251110/haijian-wang/...   \n",
       "18277     233449  https://sofifa.com/player/233449/ximing-pan/20...   \n",
       "\n",
       "         short_name     long_name  age         dob  height_cm  weight_kg  \\\n",
       "18273    Shao Shuai            邵帅   22  1997-03-10        186         79   \n",
       "18274  Xiao Mingjie  Mingjie Xiao   22  1997-01-01        177         66   \n",
       "18275     Zhang Wei            张威   19  2000-05-16        186         75   \n",
       "18276  Wang Haijian           汪海健   18  2000-08-02        185         74   \n",
       "18277    Pan Ximing           潘喜明   26  1993-01-11        182         78   \n",
       "\n",
       "      nationality                           club  ...   lwb   ldm   cdm   rdm  \\\n",
       "18273    China PR               Beijing Renhe FC  ...  43+2  42+2  42+2  42+2   \n",
       "18274    China PR               Shanghai SIPG FC  ...  44+2  43+2  43+2  43+2   \n",
       "18275    China PR         Hebei China Fortune FC  ...  47+2  49+2  49+2  49+2   \n",
       "18276    China PR  Shanghai Greenland Shenhua FC  ...  48+2  48+2  48+2  48+2   \n",
       "18277    China PR         Hebei China Fortune FC  ...  48+2  49+2  49+2  49+2   \n",
       "\n",
       "        rwb    lb   lcb    cb   rcb    rb  \n",
       "18273  43+2  45+2  46+2  46+2  46+2  45+2  \n",
       "18274  44+2  46+2  47+2  47+2  47+2  46+2  \n",
       "18275  47+2  47+2  49+2  49+2  49+2  47+2  \n",
       "18276  48+2  48+2  49+2  49+2  49+2  48+2  \n",
       "18277  48+2  48+2  50+2  50+2  50+2  48+2  \n",
       "\n",
       "[5 rows x 104 columns]"
      ]
     },
     "execution_count": 6,
     "metadata": {},
     "output_type": "execute_result"
    }
   ],
   "source": [
    "# Display the last 5 rows of the raw DataFrame, df_fifa_raw\n",
    "df_fifa_raw.tail()"
   ]
  },
  {
   "cell_type": "markdown",
   "metadata": {},
   "source": [
    "[shape](https://pandas.pydata.org/pandas-docs/stable/reference/api/pandas.DataFrame.dtypes.html) returns a tuple representing the dimensionality of the DataFrame."
   ]
  },
  {
   "cell_type": "code",
   "execution_count": 7,
   "metadata": {},
   "outputs": [
    {
     "name": "stdout",
     "output_type": "stream",
     "text": [
      "(18278, 104)\n"
     ]
    }
   ],
   "source": [
    "# Print the shape of the raw DataFrame, df_fifa_raw\n",
    "print(df_fifa_raw.shape)"
   ]
  },
  {
   "cell_type": "markdown",
   "metadata": {},
   "source": [
    "The raw DataFrame has:\n",
    "*    18,278 observations (rows), each observation represents one unique player, and\n",
    "*    104 attributes (columns)."
   ]
  },
  {
   "cell_type": "markdown",
   "metadata": {},
   "source": [
    "[columns](https://pandas.pydata.org/pandas-docs/stable/reference/api/pandas.DataFrame.columns.html) returns the column labels of the DataFrame. Full details of these attributes can be found in the [Data Dictionary](section3.2.1)."
   ]
  },
  {
   "cell_type": "code",
   "execution_count": 8,
   "metadata": {},
   "outputs": [
    {
     "name": "stdout",
     "output_type": "stream",
     "text": [
      "Index(['sofifa_id', 'player_url', 'short_name', 'long_name', 'age', 'dob',\n",
      "       'height_cm', 'weight_kg', 'nationality', 'club',\n",
      "       ...\n",
      "       'lwb', 'ldm', 'cdm', 'rdm', 'rwb', 'lb', 'lcb', 'cb', 'rcb', 'rb'],\n",
      "      dtype='object', length=104)\n"
     ]
    }
   ],
   "source": [
    "# Print the column names of the raw DataFrame, df_fifa_raw\n",
    "print(df_fifa_raw.columns)"
   ]
  },
  {
   "cell_type": "markdown",
   "metadata": {},
   "source": [
    "The [dtypes](https://pandas.pydata.org/pandas-docs/stable/reference/api/pandas.DataFrame.dtypes.html) method returns the data types of each attribute in the DataFrame. Full details of these attributes and their data type can be found in the [Data Dictionary](section3.2.1)."
   ]
  },
  {
   "cell_type": "code",
   "execution_count": 9,
   "metadata": {},
   "outputs": [
    {
     "data": {
      "text/plain": [
       "sofifa_id      int64\n",
       "player_url    object\n",
       "short_name    object\n",
       "long_name     object\n",
       "age            int64\n",
       "               ...  \n",
       "lb            object\n",
       "lcb           object\n",
       "cb            object\n",
       "rcb           object\n",
       "rb            object\n",
       "Length: 104, dtype: object"
      ]
     },
     "execution_count": 9,
     "metadata": {},
     "output_type": "execute_result"
    }
   ],
   "source": [
    "# Data types of the features of the raw DataFrame, df_fifa_raw\n",
    "\n",
    "\"\"\"\n",
    "# Displays all one hundered and four columns, commented out but shown for reference\n",
    "with pd.option_context('display.max_rows', None, 'display.max_columns', None):\n",
    "    print(df_fifa_raw .dtypes)\n",
    "\"\"\"\n",
    "\n",
    "df_fifa_raw.dtypes"
   ]
  },
  {
   "cell_type": "markdown",
   "metadata": {},
   "source": [
    "The [info](https://pandas.pydata.org/pandas-docs/stable/reference/api/pandas.DataFrame.info.html) method to get a quick description of the data, in particular, the total number of rows, and each attribute’s type and number of non-null values."
   ]
  },
  {
   "cell_type": "code",
   "execution_count": 10,
   "metadata": {},
   "outputs": [
    {
     "name": "stdout",
     "output_type": "stream",
     "text": [
      "<class 'pandas.core.frame.DataFrame'>\n",
      "RangeIndex: 18278 entries, 0 to 18277\n",
      "Columns: 104 entries, sofifa_id to rb\n",
      "dtypes: float64(16), int64(45), object(43)\n",
      "memory usage: 14.5+ MB\n"
     ]
    }
   ],
   "source": [
    "# Info for the raw DataFrame, df_fifa_raw\n",
    "df_fifa_raw.info()"
   ]
  },
  {
   "cell_type": "markdown",
   "metadata": {},
   "source": [
    "The [describe](https://pandas.pydata.org/pandas-docs/stable/reference/api/pandas.DataFrame.describe.html) method to show some useful statistics for each numerical column in the DataFrame."
   ]
  },
  {
   "cell_type": "code",
   "execution_count": 11,
   "metadata": {
    "scrolled": true
   },
   "outputs": [
    {
     "data": {
      "text/html": [
       "<div>\n",
       "<style scoped>\n",
       "    .dataframe tbody tr th:only-of-type {\n",
       "        vertical-align: middle;\n",
       "    }\n",
       "\n",
       "    .dataframe tbody tr th {\n",
       "        vertical-align: top;\n",
       "    }\n",
       "\n",
       "    .dataframe thead th {\n",
       "        text-align: right;\n",
       "    }\n",
       "</style>\n",
       "<table border=\"1\" class=\"dataframe\">\n",
       "  <thead>\n",
       "    <tr style=\"text-align: right;\">\n",
       "      <th></th>\n",
       "      <th>sofifa_id</th>\n",
       "      <th>age</th>\n",
       "      <th>height_cm</th>\n",
       "      <th>weight_kg</th>\n",
       "      <th>overall</th>\n",
       "      <th>potential</th>\n",
       "      <th>value_eur</th>\n",
       "      <th>wage_eur</th>\n",
       "      <th>international_reputation</th>\n",
       "      <th>weak_foot</th>\n",
       "      <th>...</th>\n",
       "      <th>mentality_penalties</th>\n",
       "      <th>mentality_composure</th>\n",
       "      <th>defending_marking</th>\n",
       "      <th>defending_standing_tackle</th>\n",
       "      <th>defending_sliding_tackle</th>\n",
       "      <th>goalkeeping_diving</th>\n",
       "      <th>goalkeeping_handling</th>\n",
       "      <th>goalkeeping_kicking</th>\n",
       "      <th>goalkeeping_positioning</th>\n",
       "      <th>goalkeeping_reflexes</th>\n",
       "    </tr>\n",
       "  </thead>\n",
       "  <tbody>\n",
       "    <tr>\n",
       "      <th>count</th>\n",
       "      <td>18278.000000</td>\n",
       "      <td>18278.000000</td>\n",
       "      <td>18278.000000</td>\n",
       "      <td>18278.000000</td>\n",
       "      <td>18278.000000</td>\n",
       "      <td>18278.000000</td>\n",
       "      <td>1.827800e+04</td>\n",
       "      <td>18278.000000</td>\n",
       "      <td>18278.000000</td>\n",
       "      <td>18278.000000</td>\n",
       "      <td>...</td>\n",
       "      <td>18278.000000</td>\n",
       "      <td>18278.000000</td>\n",
       "      <td>18278.000000</td>\n",
       "      <td>18278.000000</td>\n",
       "      <td>18278.000000</td>\n",
       "      <td>18278.000000</td>\n",
       "      <td>18278.000000</td>\n",
       "      <td>18278.000000</td>\n",
       "      <td>18278.000000</td>\n",
       "      <td>18278.000000</td>\n",
       "    </tr>\n",
       "    <tr>\n",
       "      <th>mean</th>\n",
       "      <td>219738.864482</td>\n",
       "      <td>25.283291</td>\n",
       "      <td>181.362184</td>\n",
       "      <td>75.276343</td>\n",
       "      <td>66.244994</td>\n",
       "      <td>71.546887</td>\n",
       "      <td>2.484038e+06</td>\n",
       "      <td>9456.942773</td>\n",
       "      <td>1.103184</td>\n",
       "      <td>2.944250</td>\n",
       "      <td>...</td>\n",
       "      <td>48.383357</td>\n",
       "      <td>58.528778</td>\n",
       "      <td>46.848889</td>\n",
       "      <td>47.640333</td>\n",
       "      <td>45.606631</td>\n",
       "      <td>16.572765</td>\n",
       "      <td>16.354853</td>\n",
       "      <td>16.212934</td>\n",
       "      <td>16.368038</td>\n",
       "      <td>16.709924</td>\n",
       "    </tr>\n",
       "    <tr>\n",
       "      <th>std</th>\n",
       "      <td>27960.200461</td>\n",
       "      <td>4.656964</td>\n",
       "      <td>6.756961</td>\n",
       "      <td>7.047744</td>\n",
       "      <td>6.949953</td>\n",
       "      <td>6.139669</td>\n",
       "      <td>5.585481e+06</td>\n",
       "      <td>21351.714095</td>\n",
       "      <td>0.378861</td>\n",
       "      <td>0.664656</td>\n",
       "      <td>...</td>\n",
       "      <td>15.708099</td>\n",
       "      <td>11.880840</td>\n",
       "      <td>20.091287</td>\n",
       "      <td>21.585641</td>\n",
       "      <td>21.217734</td>\n",
       "      <td>17.738069</td>\n",
       "      <td>16.996925</td>\n",
       "      <td>16.613665</td>\n",
       "      <td>17.136497</td>\n",
       "      <td>18.038125</td>\n",
       "    </tr>\n",
       "    <tr>\n",
       "      <th>min</th>\n",
       "      <td>768.000000</td>\n",
       "      <td>16.000000</td>\n",
       "      <td>156.000000</td>\n",
       "      <td>50.000000</td>\n",
       "      <td>48.000000</td>\n",
       "      <td>49.000000</td>\n",
       "      <td>0.000000e+00</td>\n",
       "      <td>0.000000</td>\n",
       "      <td>1.000000</td>\n",
       "      <td>1.000000</td>\n",
       "      <td>...</td>\n",
       "      <td>7.000000</td>\n",
       "      <td>12.000000</td>\n",
       "      <td>1.000000</td>\n",
       "      <td>5.000000</td>\n",
       "      <td>3.000000</td>\n",
       "      <td>1.000000</td>\n",
       "      <td>1.000000</td>\n",
       "      <td>1.000000</td>\n",
       "      <td>1.000000</td>\n",
       "      <td>1.000000</td>\n",
       "    </tr>\n",
       "    <tr>\n",
       "      <th>25%</th>\n",
       "      <td>204445.500000</td>\n",
       "      <td>22.000000</td>\n",
       "      <td>177.000000</td>\n",
       "      <td>70.000000</td>\n",
       "      <td>62.000000</td>\n",
       "      <td>67.000000</td>\n",
       "      <td>3.250000e+05</td>\n",
       "      <td>1000.000000</td>\n",
       "      <td>1.000000</td>\n",
       "      <td>3.000000</td>\n",
       "      <td>...</td>\n",
       "      <td>39.000000</td>\n",
       "      <td>51.000000</td>\n",
       "      <td>29.000000</td>\n",
       "      <td>27.000000</td>\n",
       "      <td>24.000000</td>\n",
       "      <td>8.000000</td>\n",
       "      <td>8.000000</td>\n",
       "      <td>8.000000</td>\n",
       "      <td>8.000000</td>\n",
       "      <td>8.000000</td>\n",
       "    </tr>\n",
       "    <tr>\n",
       "      <th>50%</th>\n",
       "      <td>226165.000000</td>\n",
       "      <td>25.000000</td>\n",
       "      <td>181.000000</td>\n",
       "      <td>75.000000</td>\n",
       "      <td>66.000000</td>\n",
       "      <td>71.000000</td>\n",
       "      <td>7.000000e+05</td>\n",
       "      <td>3000.000000</td>\n",
       "      <td>1.000000</td>\n",
       "      <td>3.000000</td>\n",
       "      <td>...</td>\n",
       "      <td>49.000000</td>\n",
       "      <td>60.000000</td>\n",
       "      <td>52.000000</td>\n",
       "      <td>55.000000</td>\n",
       "      <td>52.000000</td>\n",
       "      <td>11.000000</td>\n",
       "      <td>11.000000</td>\n",
       "      <td>11.000000</td>\n",
       "      <td>11.000000</td>\n",
       "      <td>11.000000</td>\n",
       "    </tr>\n",
       "    <tr>\n",
       "      <th>75%</th>\n",
       "      <td>240795.750000</td>\n",
       "      <td>29.000000</td>\n",
       "      <td>186.000000</td>\n",
       "      <td>80.000000</td>\n",
       "      <td>71.000000</td>\n",
       "      <td>75.000000</td>\n",
       "      <td>2.100000e+06</td>\n",
       "      <td>8000.000000</td>\n",
       "      <td>1.000000</td>\n",
       "      <td>3.000000</td>\n",
       "      <td>...</td>\n",
       "      <td>60.000000</td>\n",
       "      <td>67.000000</td>\n",
       "      <td>64.000000</td>\n",
       "      <td>66.000000</td>\n",
       "      <td>64.000000</td>\n",
       "      <td>14.000000</td>\n",
       "      <td>14.000000</td>\n",
       "      <td>14.000000</td>\n",
       "      <td>14.000000</td>\n",
       "      <td>14.000000</td>\n",
       "    </tr>\n",
       "    <tr>\n",
       "      <th>max</th>\n",
       "      <td>252905.000000</td>\n",
       "      <td>42.000000</td>\n",
       "      <td>205.000000</td>\n",
       "      <td>110.000000</td>\n",
       "      <td>94.000000</td>\n",
       "      <td>95.000000</td>\n",
       "      <td>1.055000e+08</td>\n",
       "      <td>565000.000000</td>\n",
       "      <td>5.000000</td>\n",
       "      <td>5.000000</td>\n",
       "      <td>...</td>\n",
       "      <td>92.000000</td>\n",
       "      <td>96.000000</td>\n",
       "      <td>94.000000</td>\n",
       "      <td>92.000000</td>\n",
       "      <td>90.000000</td>\n",
       "      <td>90.000000</td>\n",
       "      <td>92.000000</td>\n",
       "      <td>93.000000</td>\n",
       "      <td>91.000000</td>\n",
       "      <td>92.000000</td>\n",
       "    </tr>\n",
       "  </tbody>\n",
       "</table>\n",
       "<p>8 rows × 61 columns</p>\n",
       "</div>"
      ],
      "text/plain": [
       "           sofifa_id           age     height_cm     weight_kg       overall  \\\n",
       "count   18278.000000  18278.000000  18278.000000  18278.000000  18278.000000   \n",
       "mean   219738.864482     25.283291    181.362184     75.276343     66.244994   \n",
       "std     27960.200461      4.656964      6.756961      7.047744      6.949953   \n",
       "min       768.000000     16.000000    156.000000     50.000000     48.000000   \n",
       "25%    204445.500000     22.000000    177.000000     70.000000     62.000000   \n",
       "50%    226165.000000     25.000000    181.000000     75.000000     66.000000   \n",
       "75%    240795.750000     29.000000    186.000000     80.000000     71.000000   \n",
       "max    252905.000000     42.000000    205.000000    110.000000     94.000000   \n",
       "\n",
       "          potential     value_eur       wage_eur  international_reputation  \\\n",
       "count  18278.000000  1.827800e+04   18278.000000              18278.000000   \n",
       "mean      71.546887  2.484038e+06    9456.942773                  1.103184   \n",
       "std        6.139669  5.585481e+06   21351.714095                  0.378861   \n",
       "min       49.000000  0.000000e+00       0.000000                  1.000000   \n",
       "25%       67.000000  3.250000e+05    1000.000000                  1.000000   \n",
       "50%       71.000000  7.000000e+05    3000.000000                  1.000000   \n",
       "75%       75.000000  2.100000e+06    8000.000000                  1.000000   \n",
       "max       95.000000  1.055000e+08  565000.000000                  5.000000   \n",
       "\n",
       "          weak_foot  ...  mentality_penalties  mentality_composure  \\\n",
       "count  18278.000000  ...         18278.000000         18278.000000   \n",
       "mean       2.944250  ...            48.383357            58.528778   \n",
       "std        0.664656  ...            15.708099            11.880840   \n",
       "min        1.000000  ...             7.000000            12.000000   \n",
       "25%        3.000000  ...            39.000000            51.000000   \n",
       "50%        3.000000  ...            49.000000            60.000000   \n",
       "75%        3.000000  ...            60.000000            67.000000   \n",
       "max        5.000000  ...            92.000000            96.000000   \n",
       "\n",
       "       defending_marking  defending_standing_tackle  defending_sliding_tackle  \\\n",
       "count       18278.000000               18278.000000              18278.000000   \n",
       "mean           46.848889                  47.640333                 45.606631   \n",
       "std            20.091287                  21.585641                 21.217734   \n",
       "min             1.000000                   5.000000                  3.000000   \n",
       "25%            29.000000                  27.000000                 24.000000   \n",
       "50%            52.000000                  55.000000                 52.000000   \n",
       "75%            64.000000                  66.000000                 64.000000   \n",
       "max            94.000000                  92.000000                 90.000000   \n",
       "\n",
       "       goalkeeping_diving  goalkeeping_handling  goalkeeping_kicking  \\\n",
       "count        18278.000000          18278.000000         18278.000000   \n",
       "mean            16.572765             16.354853            16.212934   \n",
       "std             17.738069             16.996925            16.613665   \n",
       "min              1.000000              1.000000             1.000000   \n",
       "25%              8.000000              8.000000             8.000000   \n",
       "50%             11.000000             11.000000            11.000000   \n",
       "75%             14.000000             14.000000            14.000000   \n",
       "max             90.000000             92.000000            93.000000   \n",
       "\n",
       "       goalkeeping_positioning  goalkeeping_reflexes  \n",
       "count             18278.000000          18278.000000  \n",
       "mean                 16.368038             16.709924  \n",
       "std                  17.136497             18.038125  \n",
       "min                   1.000000              1.000000  \n",
       "25%                   8.000000              8.000000  \n",
       "50%                  11.000000             11.000000  \n",
       "75%                  14.000000             14.000000  \n",
       "max                  91.000000             92.000000  \n",
       "\n",
       "[8 rows x 61 columns]"
      ]
     },
     "execution_count": 11,
     "metadata": {},
     "output_type": "execute_result"
    }
   ],
   "source": [
    "# Description of the raw DataFrame, df_fifa_raw, showing some summary statistics for each numberical column in the DataFrame\n",
    "df_fifa_raw.describe()"
   ]
  },
  {
   "cell_type": "markdown",
   "metadata": {},
   "source": [
    "We can see from the output of the describe method the count, mean, min, max and standard deviation of many of the features of the players in the [FIFA 20](https://www.ea.com/en-gb/games/fifa/fifa-20) database, some examples of these include:\n",
    "*    The average player age in the database is 25 years old. The youngest player age is 16 and the oldest is 42.\n",
    "*    The average height for a player in the database is 181cm (5ft9in). The shortest player is 156cm (5ft1in) and the tallest player is 205cm (6ft7in).\n",
    "*    *    The average weight for a player in the database is 75kg (11st8lbs). The heaviest player is 110kg (17st3lbs) and the lightest is 50kg (7st9lbs).\n",
    "*    The highest rated player is 94 (Lionel Messi). The lowest rated player is 48 (43 players with this rating)."
   ]
  },
  {
   "cell_type": "markdown",
   "metadata": {},
   "source": [
    "Next, we will check to see how many missing values we have in the dataset i.e. the number of NULL values, and in what features these missing values are located. This can be plotted nicely using the [missingno](https://pypi.org/project/missingno/) library (pip install missingno if you don't have it installed)."
   ]
  },
  {
   "cell_type": "code",
   "execution_count": 12,
   "metadata": {},
   "outputs": [
    {
     "data": {
      "text/plain": [
       "<matplotlib.axes._subplots.AxesSubplot at 0x1021466d0>"
      ]
     },
     "execution_count": 12,
     "metadata": {},
     "output_type": "execute_result"
    },
    {
     "data": {
      "image/png": "[encoded data removed]",
      "text/plain": [
       "<Figure size 2160x504 with 2 Axes>"
      ]
     },
     "metadata": {},
     "output_type": "display_data"
    }
   ],
   "source": [
    "# Plot visualisation of the missing values for each feature of the raw DataFrame, df_fifa_raw\n",
    "msno.matrix(df_fifa_raw, figsize = (30, 7))"
   ]
  },
  {
   "cell_type": "code",
   "execution_count": 13,
   "metadata": {},
   "outputs": [
    {
     "data": {
      "text/plain": [
       "release_clause_eur       1298\n",
       "player_tags             16779\n",
       "team_position             240\n",
       "team_jersey_number        240\n",
       "loaned_from             17230\n",
       "joined                   1288\n",
       "contract_valid_until      240\n",
       "nation_position         17152\n",
       "nation_jersey_number    17152\n",
       "pace                     2036\n",
       "shooting                 2036\n",
       "passing                  2036\n",
       "dribbling                2036\n",
       "defending                2036\n",
       "physic                   2036\n",
       "gk_diving               16242\n",
       "gk_handling             16242\n",
       "gk_kicking              16242\n",
       "gk_reflexes             16242\n",
       "gk_speed                16242\n",
       "gk_positioning          16242\n",
       "player_traits           10712\n",
       "ls                       2036\n",
       "st                       2036\n",
       "rs                       2036\n",
       "lw                       2036\n",
       "lf                       2036\n",
       "cf                       2036\n",
       "rf                       2036\n",
       "rw                       2036\n",
       "lam                      2036\n",
       "cam                      2036\n",
       "ram                      2036\n",
       "lm                       2036\n",
       "lcm                      2036\n",
       "cm                       2036\n",
       "rcm                      2036\n",
       "rm                       2036\n",
       "lwb                      2036\n",
       "ldm                      2036\n",
       "cdm                      2036\n",
       "rdm                      2036\n",
       "rwb                      2036\n",
       "lb                       2036\n",
       "lcb                      2036\n",
       "cb                       2036\n",
       "rcb                      2036\n",
       "rb                       2036\n",
       "dtype: int64"
      ]
     },
     "execution_count": 13,
     "metadata": {},
     "output_type": "execute_result"
    }
   ],
   "source": [
    "# Counts of missing values\n",
    "fifa_null_value_stats = df_fifa_raw.isnull().sum(axis=0)\n",
    "fifa_null_value_stats[fifa_null_value_stats != 0]"
   ]
  },
  {
   "cell_type": "markdown",
   "metadata": {},
   "source": [
    "Upon inspection, we can see from the visualisation and print out that the database is made up of 16,242 outfielders and 2,036 goalkeepers. We can see this because all 16,242 outfield players have null values for the goalkeeper attributes (`gk_diving`, `gk_handling`, `gk_kicking`, `gk_reflexes`, `gk_speed`, `gk_positioning`), and likewise, all goalkeepers have null values for the outfield attributes (`pace`, `shooting`, `passing`, `dribbling`, `defending`, `physic`) and outfield positions (`ls`, `st`, `rs`, `lw`, `lf`, `cf`, `rf`, `rw`, `lam`, `cam`, `ram`, `lm`, `lcm`, `cm`, `rcm`, `rm`, `lwb`, `ldm`, `cdm`, `rdm`, `rwb`, `lb`, `lcb`, `cb`, `rcb`, `rb`).\n",
    "\n",
    "We can also see that 17,152 players do not have a `nation_position` or `nation_jersey_number` i.e. they don't play for their country and 240 players don't have `team_position` or `team_jersey_number` i.e. they are free agents not signed to clubs.\n",
    "\n",
    "This database has no missing values in the columns of interest `name`, `rating`, `age`, and therefore requires no further alteration. The database will however require some engineering and manipulation before it can be joined to the [TransferMarkt](https://www.transfermarkt.co.uk/)  dataset, which can be found in the Data Engineering section, in [section 4](#section4)."
   ]
  },
  {
   "cell_type": "markdown",
   "metadata": {},
   "source": [
    "<a id='section3.3'></a>"
   ]
  },
  {
   "cell_type": "markdown",
   "metadata": {},
   "source": [
    "### 3.3. TransferMarkt\n",
    "[TransferMarkt](https://www.transfermarkt.co.uk/) is a German-based website owned by [Axel Springer](https://www.axelspringer.com/en/) and is the leading website for the football transfer market. The website posts football related data, including: scores and results, football news, transfer rumours, and most usefully for us - calculated estimates ofthe market values for teams and individual players.\n",
    "\n",
    "To read more about how these estimations are made, [Beyond crowd judgments: Data-driven estimation of market value in association football](https://www.sciencedirect.com/science/article/pii/S0377221717304332) by Oliver Müllera, Alexander Simons, and Markus Weinmann does an excellent job of explaining how the estimations are made and their level of accuracy."
   ]
  },
  {
   "cell_type": "markdown",
   "metadata": {},
   "source": [
    "<a id='section3.3.1'></a>"
   ]
  },
  {
   "cell_type": "markdown",
   "metadata": {},
   "source": [
    "#### 3.3.1. Data Dictionaries\n",
    "The [TransferMarkt](https://www.transfermarkt.co.uk/) dataset has six features (columns) with the following definitions and data types:\n",
    "\n",
    "| Feature     | Data type    |\n",
    "|------|-----|\n",
    "| `position_number`    | object     |\n",
    "| `position_description`    | object     |\n",
    "| `name`    | object     |\n",
    "| `dob`    | object     |\n",
    "| `nationality`    | object     |\n",
    "| `value`    | object     |"
   ]
  },
  {
   "cell_type": "markdown",
   "metadata": {},
   "source": [
    "#### 3.3.2. Scrape TransferMarkt\n",
    "Before scraping data from [TransferMarkt](https://www.transfermarkt.co.uk/), we need to look at the leagues that are licensed and available in [FIFA 20](https://www.ea.com/en-gb/games/fifa/fifa-20). In total, there over [30 official leagues, over 700 clubs and over 17,000 players](https://en.wikipedia.org/wiki/FIFA_20#Licenses). \n",
    "\n",
    "The web scraper for [TransferMarkt](https://www.transfermarkt.co.uk/) is made up of two parts:\n",
    "1.    In the first part, the scraper takes the webpages for each of the individual leagues  e.g. The Premier League, and extract the hyperlinks to the pages of all the individual teams in the league table.\n",
    "2.    In the second part the script, the webscraper uses the list of invidual teams hyperlinks collected in part 1 to then collect the hyperlinks for each of the players for those teams. From this, the scraper can then extract the information we need for each of these players.\n",
    "\n",
    "This information collected for all the players is converted to a [pandas](http://pandas.pydata.org/) DataFrame from which we can view and manipulate the data.\n",
    "\n",
    "An example webpage for a football league is the following: https://www.transfermarkt.co.uk/jumplist/startseite/wettbewerb/GB1/plus/?saison_id=2019. As we can see, between the subdirectory path of `'/wettbewerb/'` and the `'/plus/'`, there is a 3 or 4 digit code. For The Premier League, the code is GB1. \n",
    "\n",
    "In order to scrape the webpages from [TransferMarkt](https://www.transfermarkt.co.uk/), the codes of the leagues in FIFA need to be recorded from [TransferMarkt](https://www.transfermarkt.co.uk/), which are the following:\n",
    "\n",
    "| League Name on FIFA    | Country    | Corresponding [TransferMarkt](https://www.transfermarkt.co.uk/) League Code    |\n",
    "|------|-----|-----|\n",
    "| Österreichische Fußball-Bundesliga    | Austria    | A1    |\n",
    "| SAF    | Argentina    | AR1N    |\n",
    "| Hyundai A-League    | Australia    | AUS1    |\n",
    "| Belgium Pro League    | Belgium    | BE1    |\n",
    "| Raiffeisen Super League    | Switzerland    | C1    |\n",
    "| Campeonato Scotiabank    | Chile    | CLPD    |\n",
    "| Liga Dimayor    | Colombia    | COL1    |\n",
    "| CSL    | China    | CSL    |\n",
    "| Superliga    | Denmark    | DK1    |\n",
    "| LaLiga Santander    | Spain    | ES1    |\n",
    "| LaLiga 1 I 2 I 3    | Spain    | ES2    |\n",
    "| Finnliiga    | Finland    | FI1    |\n",
    "| Ligue 1 Conforama    | France    | FR1    |\n",
    "| Domino’s Ligue 2    | France    | FR2    |\n",
    "| Premier League    | England    | GB1    |\n",
    "| EFL Championship    | England    | GB2    |\n",
    "| EFL League One    | England    | GB3    |\n",
    "| EFL League Two    | England    | GB4    |\n",
    "| Hellas Liga    | Greece    | GR1    |\n",
    "| SSE Airtricity League    | Ireland    | IR1    |\n",
    "| Serie A TIM    | Italy    | IT1    |\n",
    "| Calcio B    | Italy    | IT2    |\n",
    "| Meiji Yasuda J1 League    | Japan    | JAP1    |\n",
    "| Croatia Liga    | Croatia    | KR1    |\n",
    "| Bundesliga    | Germany    | L1    |\n",
    "| Bundesliga 2    | Germany    | L2    |\n",
    "| 3. Liga    | Germany    | L3    |\n",
    "| LIGA Bancomer MX    | Mexico    | MEX1    |\n",
    "| Major League Soccer    | United States    | MLS1    |\n",
    "| Eredivisie    | Netherlands    | NL1    |\n",
    "| Eliteserien    | Norway    | NO1    |\n",
    "| Ekstraklasa    | Poland    | PL1    |\n",
    "| Liga NOS    | Portugal    | PO1    |\n",
    "| Romania Liga I    | Romania    | RO1    |\n",
    "| K LEAGUE Classic    | South Korea    | RSK1    |\n",
    "| League of Russia    | Russia    | RU1    |\n",
    "| Saudi Professional    | League\tSaudi Arabia    | SA1    |\n",
    "| Scottish Premiership    | Scotland    | SC1    |\n",
    "| Allsvenskan    | Sweden    | SE1    |\n",
    "| South African FL    | South Africa    | SFA1    |\n",
    "| Süper Lig    | Turkey    | TR1    |\n",
    "| Česká Liga    | Czech Republic    | TS1    |\n",
    "| UAE Gulf League    | United Arab Emirates    | UAE1    |\n",
    "| Ukraine Liga    | Ukraine    | UKR1    |\n",
    "\n",
    "\n",
    "Unfortunately, on writing this notebook, the following leagues are that is present on FIFA but cannot scraped from [TransferMarkt](https://www.transfermarkt.co.uk/) with the script and will and therefore not be included in the dataset.\n",
    "\n",
    "| League Name on FIFA    | Country    | Corresponding [TransferMarkt](https://www.transfermarkt.co.uk/) League Code    |\n",
    "|------|-----|-----|\n",
    "| League of Russia    | Russia    | RU1    |"
   ]
  },
  {
   "cell_type": "code",
   "execution_count": 14,
   "metadata": {},
   "outputs": [],
   "source": [
    "headers = {\n",
    "    'User-Agent': 'Mozilla/5.0 (Windows NT 10.0; Win64; x64; rv:75.0) Gecko/20100101 Firefox/75.0'\n",
    "}"
   ]
  },
  {
   "cell_type": "code",
   "execution_count": 15,
   "metadata": {},
   "outputs": [],
   "source": [
    "# List of leagues by code\n",
    "leagues = ['A1', 'AR1N', 'AUS1', 'BE1', 'C1', 'CLPD', 'COL1', 'CSL', 'DK1', 'ES1', 'ES2', 'FI1', 'FR1', 'FR2', 'GB1', 'GB2', 'GB3', 'GB4', 'GR1', 'IR1', 'IT1', 'IT2', 'JAP1', 'KR1', 'L1', 'L2', 'L3', 'MEX1', 'MLS1', 'NL1', 'NO1', 'PL1', 'PO1', 'RO1', 'RSK1', 'SA1', 'SC1', 'SE1', 'SFA1', 'TR1', 'TS1', 'UAE1', 'UKR1']\n",
    "\n",
    "# For reference (all leagues and broken leagues)\n",
    "# leagues_all = ['A1', 'AR1N', 'AUS1', 'BE1', 'C1', 'CLPD', 'COL1', 'CSL', 'DK1', 'ES1', 'ES2', 'FI1', 'FR1', 'FR2', 'GB1', 'GB2', 'GB3', 'GB4', 'GR1', 'IR1', 'IT1', 'IT2', 'JAP1', 'KR1', 'L1', 'L2', 'L3', 'MEXA', 'MLS1', 'NL1', 'NO1', 'PL1', 'PO1', 'RO1', 'RSK1', 'RU1', 'SA1', 'SC1', 'SE1', 'SFA1', 'TR1', 'TS1', 'UAE1', 'UKR1']\n",
    "# leagues_broken = ['RU1']"
   ]
  },
  {
   "cell_type": "code",
   "execution_count": 16,
   "metadata": {},
   "outputs": [],
   "source": [
    "# Assign season by year to season variable e.g. 2014/15 season = 2014\n",
    "season = '2019'    # 2019/20 season"
   ]
  },
  {
   "cell_type": "code",
   "execution_count": 17,
   "metadata": {},
   "outputs": [
    {
     "data": {
      "text/plain": [
       "'\\n# Uncomment this code to scrape latest version of this data from TransferMarkt (approx 30 mins)\\n# Code is currently commented out to avoid needless repetitionn for running this script.\\n\\ndef main(url):\\n    with requests.Session() as req:\\n        links = []\\n        for lea in leagues:\\n            print(f\"Fetching Links from {lea}\")\\n            r = req.get(url.format(lea), headers=headers)\\n            soup = BeautifulSoup(r.content, \\'html.parser\\')\\n            link = [f\"{url[:31]}{item.next_element.get(\\'href\\')}\" for item in soup.findAll(\\n                \"td\", class_=\"hauptlink no-border-links hide-for-small hide-for-pad\")]\\n            links.extend(link)\\n\\n        print(f\"Collected {len(links)} Links\")\\n        goals = []\\n        for num, link in enumerate(links):\\n            print(f\"Extracting Page# {num +1}\")\\n            r = req.get(link, headers=headers)\\n            soup = BeautifulSoup(r.content, \\'html.parser\\')\\n            target = soup.find(\"table\", class_=\"items\")\\n            pn = [pn.text for pn in target.select(\"div.rn_nummer\")]\\n            pos = [pos.text for pos in target.findAll(\"td\", class_=False)]\\n            name = [name.text for name in target.select(\"td.hide\")]\\n            dob = [date.find_next(\\n                \"td\").text for date in target.select(\"td.hide\")]\\n            nat = [\" / \".join([a.get(\"alt\") for a in nat.find_all_next(\"td\")[1] if a.get(\"alt\")]) for nat in target.findAll(\\n                \"td\", itemprop=\"athlete\")]\\n            val = [val.get_text(strip=True)\\n                   for val in target.select(\\'td.rechts.hauptlink\\')]\\n            goal = zip(pn, pos, name, dob, nat, val)\\n            df = pd.DataFrame(goal, columns=[\\n                              \\'position_number\\', \\'position_description\\', \\'name\\', \\'dob\\', \\'nationality\\', \\'value\\'])\\n            goals.append(df)\\n\\n        new = pd.concat(goals)\\n        new.to_csv(dataDir + \"data_tm.csv\", index=False)\\n\\n\\nmain(\"https://www.transfermarkt.co.uk/jumplist/startseite/wettbewerb/{}/plus/?saison_id=2019\")\\n'"
      ]
     },
     "execution_count": 17,
     "metadata": {},
     "output_type": "execute_result"
    }
   ],
   "source": [
    "'''\n",
    "# Uncomment this code to scrape latest version of this data from TransferMarkt (approx 30 mins)\n",
    "# Code is currently commented out to avoid needless repetitionn for running this script.\n",
    "\n",
    "def main(url):\n",
    "    with requests.Session() as req:\n",
    "        links = []\n",
    "        for lea in leagues:\n",
    "            print(f\"Fetching Links from {lea}\")\n",
    "            r = req.get(url.format(lea), headers=headers)\n",
    "            soup = BeautifulSoup(r.content, 'html.parser')\n",
    "            link = [f\"{url[:31]}{item.next_element.get('href')}\" for item in soup.findAll(\n",
    "                \"td\", class_=\"hauptlink no-border-links hide-for-small hide-for-pad\")]\n",
    "            links.extend(link)\n",
    "\n",
    "        print(f\"Collected {len(links)} Links\")\n",
    "        goals = []\n",
    "        for num, link in enumerate(links):\n",
    "            print(f\"Extracting Page# {num +1}\")\n",
    "            r = req.get(link, headers=headers)\n",
    "            soup = BeautifulSoup(r.content, 'html.parser')\n",
    "            target = soup.find(\"table\", class_=\"items\")\n",
    "            pn = [pn.text for pn in target.select(\"div.rn_nummer\")]\n",
    "            pos = [pos.text for pos in target.findAll(\"td\", class_=False)]\n",
    "            name = [name.text for name in target.select(\"td.hide\")]\n",
    "            dob = [date.find_next(\n",
    "                \"td\").text for date in target.select(\"td.hide\")]\n",
    "            nat = [\" / \".join([a.get(\"alt\") for a in nat.find_all_next(\"td\")[1] if a.get(\"alt\")]) for nat in target.findAll(\n",
    "                \"td\", itemprop=\"athlete\")]\n",
    "            val = [val.get_text(strip=True)\n",
    "                   for val in target.select('td.rechts.hauptlink')]\n",
    "            goal = zip(pn, pos, name, dob, nat, val)\n",
    "            df = pd.DataFrame(goal, columns=[\n",
    "                              'position_number', 'position_description', 'name', 'dob', 'nationality', 'value'])\n",
    "            goals.append(df)\n",
    "\n",
    "        new = pd.concat(goals)\n",
    "        new.to_csv(dataDir + \"data_tm.csv\", index=False)\n",
    "\n",
    "\n",
    "main(\"https://www.transfermarkt.co.uk/jumplist/startseite/wettbewerb/{}/plus/?saison_id=2019\")\n",
    "'''"
   ]
  },
  {
   "cell_type": "markdown",
   "metadata": {},
   "source": [
    "<a id='section3.3.3'></a>"
   ]
  },
  {
   "cell_type": "markdown",
   "metadata": {},
   "source": [
    "#### 3.3.3. Creating the DataFrame"
   ]
  },
  {
   "cell_type": "code",
   "execution_count": 18,
   "metadata": {},
   "outputs": [],
   "source": [
    "# Import data as a DataFrame called 'df_original'. To use in wrangling process before creating 'df' DataFrame for analysis\n",
    "file_tm = \"data_tm.csv\"\n",
    "filepath_tm = dataDir + file_tm \n",
    "df_tm_raw = pd.read_csv(filepath_tm)"
   ]
  },
  {
   "cell_type": "markdown",
   "metadata": {},
   "source": [
    "<a id='section3.3.4'></a>"
   ]
  },
  {
   "cell_type": "markdown",
   "metadata": {},
   "source": [
    "#### 3.3.4. Initial Data Handling"
   ]
  },
  {
   "cell_type": "code",
   "execution_count": 19,
   "metadata": {},
   "outputs": [
    {
     "data": {
      "text/html": [
       "<div>\n",
       "<style scoped>\n",
       "    .dataframe tbody tr th:only-of-type {\n",
       "        vertical-align: middle;\n",
       "    }\n",
       "\n",
       "    .dataframe tbody tr th {\n",
       "        vertical-align: top;\n",
       "    }\n",
       "\n",
       "    .dataframe thead th {\n",
       "        text-align: right;\n",
       "    }\n",
       "</style>\n",
       "<table border=\"1\" class=\"dataframe\">\n",
       "  <thead>\n",
       "    <tr style=\"text-align: right;\">\n",
       "      <th></th>\n",
       "      <th>position_number</th>\n",
       "      <th>position_description</th>\n",
       "      <th>name</th>\n",
       "      <th>dob</th>\n",
       "      <th>nationality</th>\n",
       "      <th>value</th>\n",
       "    </tr>\n",
       "  </thead>\n",
       "  <tbody>\n",
       "    <tr>\n",
       "      <th>0</th>\n",
       "      <td>1</td>\n",
       "      <td>Goalkeeper</td>\n",
       "      <td>Cican Stankovic</td>\n",
       "      <td>Nov 4, 1992 (27)</td>\n",
       "      <td>Austria</td>\n",
       "      <td>£2.52m</td>\n",
       "    </tr>\n",
       "    <tr>\n",
       "      <th>1</th>\n",
       "      <td>33</td>\n",
       "      <td>Goalkeeper</td>\n",
       "      <td>Alexander Walke</td>\n",
       "      <td>Jun 6, 1983 (36)</td>\n",
       "      <td>Germany</td>\n",
       "      <td>£540k</td>\n",
       "    </tr>\n",
       "    <tr>\n",
       "      <th>2</th>\n",
       "      <td>31</td>\n",
       "      <td>Goalkeeper</td>\n",
       "      <td>Carlos Miguel Coronel</td>\n",
       "      <td>Dec 29, 1996 (23)</td>\n",
       "      <td>Brazil</td>\n",
       "      <td>£360k</td>\n",
       "    </tr>\n",
       "    <tr>\n",
       "      <th>3</th>\n",
       "      <td>23</td>\n",
       "      <td>Goalkeeper</td>\n",
       "      <td>Philipp Köhn</td>\n",
       "      <td>Apr 2, 1998 (22)</td>\n",
       "      <td>Switzerland / Germany</td>\n",
       "      <td>£270k</td>\n",
       "    </tr>\n",
       "    <tr>\n",
       "      <th>4</th>\n",
       "      <td>39</td>\n",
       "      <td>Centre-Back</td>\n",
       "      <td>Maximilian Wöber</td>\n",
       "      <td>Feb 4, 1998 (22)</td>\n",
       "      <td>Austria</td>\n",
       "      <td>£8.10m</td>\n",
       "    </tr>\n",
       "  </tbody>\n",
       "</table>\n",
       "</div>"
      ],
      "text/plain": [
       "  position_number position_description                   name  \\\n",
       "0               1           Goalkeeper        Cican Stankovic   \n",
       "1              33           Goalkeeper        Alexander Walke   \n",
       "2              31           Goalkeeper  Carlos Miguel Coronel   \n",
       "3              23           Goalkeeper           Philipp Köhn   \n",
       "4              39          Centre-Back       Maximilian Wöber   \n",
       "\n",
       "                 dob            nationality   value  \n",
       "0   Nov 4, 1992 (27)                Austria  £2.52m  \n",
       "1   Jun 6, 1983 (36)                Germany   £540k  \n",
       "2  Dec 29, 1996 (23)                 Brazil   £360k  \n",
       "3   Apr 2, 1998 (22)  Switzerland / Germany   £270k  \n",
       "4   Feb 4, 1998 (22)                Austria  £8.10m  "
      ]
     },
     "execution_count": 19,
     "metadata": {},
     "output_type": "execute_result"
    }
   ],
   "source": [
    "# Display the first 5 rows of the raw DataFrame, df_tm_raw\n",
    "df_tm_raw.head()"
   ]
  },
  {
   "cell_type": "code",
   "execution_count": 20,
   "metadata": {},
   "outputs": [
    {
     "data": {
      "text/html": [
       "<div>\n",
       "<style scoped>\n",
       "    .dataframe tbody tr th:only-of-type {\n",
       "        vertical-align: middle;\n",
       "    }\n",
       "\n",
       "    .dataframe tbody tr th {\n",
       "        vertical-align: top;\n",
       "    }\n",
       "\n",
       "    .dataframe thead th {\n",
       "        text-align: right;\n",
       "    }\n",
       "</style>\n",
       "<table border=\"1\" class=\"dataframe\">\n",
       "  <thead>\n",
       "    <tr style=\"text-align: right;\">\n",
       "      <th></th>\n",
       "      <th>position_number</th>\n",
       "      <th>position_description</th>\n",
       "      <th>name</th>\n",
       "      <th>dob</th>\n",
       "      <th>nationality</th>\n",
       "      <th>value</th>\n",
       "    </tr>\n",
       "  </thead>\n",
       "  <tbody>\n",
       "    <tr>\n",
       "      <th>19546</th>\n",
       "      <td>13</td>\n",
       "      <td>Left Winger</td>\n",
       "      <td>Yaroslav Deda</td>\n",
       "      <td>May 28, 1999 (20)</td>\n",
       "      <td>Ukraine</td>\n",
       "      <td>£180k</td>\n",
       "    </tr>\n",
       "    <tr>\n",
       "      <th>19547</th>\n",
       "      <td>95</td>\n",
       "      <td>Left Winger</td>\n",
       "      <td>Kirill Kirilenko</td>\n",
       "      <td>Oct 8, 2000 (19)</td>\n",
       "      <td>Belarus</td>\n",
       "      <td>£90k</td>\n",
       "    </tr>\n",
       "    <tr>\n",
       "      <th>19548</th>\n",
       "      <td>19</td>\n",
       "      <td>Right Winger</td>\n",
       "      <td>Hisham Layous</td>\n",
       "      <td>Nov 23, 2000 (19)</td>\n",
       "      <td>Israel</td>\n",
       "      <td>£90k</td>\n",
       "    </tr>\n",
       "    <tr>\n",
       "      <th>19549</th>\n",
       "      <td>10</td>\n",
       "      <td>Centre-Forward</td>\n",
       "      <td>Matar Dieye</td>\n",
       "      <td>Jan 10, 1998 (22)</td>\n",
       "      <td>Senegal</td>\n",
       "      <td>£405k</td>\n",
       "    </tr>\n",
       "    <tr>\n",
       "      <th>19550</th>\n",
       "      <td>17</td>\n",
       "      <td>Centre-Forward</td>\n",
       "      <td>Alexandru Boiciuc</td>\n",
       "      <td>Aug 21, 1997 (22)</td>\n",
       "      <td>Moldova</td>\n",
       "      <td>£270k</td>\n",
       "    </tr>\n",
       "  </tbody>\n",
       "</table>\n",
       "</div>"
      ],
      "text/plain": [
       "      position_number position_description               name  \\\n",
       "19546              13          Left Winger      Yaroslav Deda   \n",
       "19547              95          Left Winger   Kirill Kirilenko   \n",
       "19548              19         Right Winger      Hisham Layous   \n",
       "19549              10       Centre-Forward        Matar Dieye   \n",
       "19550              17       Centre-Forward  Alexandru Boiciuc   \n",
       "\n",
       "                     dob nationality  value  \n",
       "19546  May 28, 1999 (20)     Ukraine  £180k  \n",
       "19547   Oct 8, 2000 (19)     Belarus   £90k  \n",
       "19548  Nov 23, 2000 (19)      Israel   £90k  \n",
       "19549  Jan 10, 1998 (22)     Senegal  £405k  \n",
       "19550  Aug 21, 1997 (22)     Moldova  £270k  "
      ]
     },
     "execution_count": 20,
     "metadata": {},
     "output_type": "execute_result"
    }
   ],
   "source": [
    "# Display the last 5 rows of the raw DataFrame, df_tm_raw\n",
    "df_tm_raw.tail()"
   ]
  },
  {
   "cell_type": "code",
   "execution_count": 21,
   "metadata": {},
   "outputs": [
    {
     "name": "stdout",
     "output_type": "stream",
     "text": [
      "(19551, 6)\n"
     ]
    }
   ],
   "source": [
    "# Print the shape of the raw DataFrame, df_tm_raw\n",
    "print(df_tm_raw.shape)"
   ]
  },
  {
   "cell_type": "markdown",
   "metadata": {},
   "source": [
    "The raw DataFrame has:\n",
    "*    19,551 observations (rows), each observation represents one unique player, and\n",
    "*    6 attributes (columns)."
   ]
  },
  {
   "cell_type": "code",
   "execution_count": 22,
   "metadata": {},
   "outputs": [
    {
     "name": "stdout",
     "output_type": "stream",
     "text": [
      "Index(['position_number', 'position_description', 'name', 'dob', 'nationality',\n",
      "       'value'],\n",
      "      dtype='object')\n"
     ]
    }
   ],
   "source": [
    "# Print the column names of the raw DataFrame, df_tm_raw\n",
    "print(df_tm_raw.columns)"
   ]
  },
  {
   "cell_type": "markdown",
   "metadata": {},
   "source": [
    "The dataset has six features (columns). Full details of these attributes can be found in the [Data Dictionary](section3.3.1)."
   ]
  },
  {
   "cell_type": "code",
   "execution_count": 23,
   "metadata": {},
   "outputs": [
    {
     "data": {
      "text/plain": [
       "position_number         object\n",
       "position_description    object\n",
       "name                    object\n",
       "dob                     object\n",
       "nationality             object\n",
       "value                   object\n",
       "dtype: object"
      ]
     },
     "execution_count": 23,
     "metadata": {},
     "output_type": "execute_result"
    }
   ],
   "source": [
    "# Data types of the features of the raw DataFrame, df_tm_raw\n",
    "df_tm_raw.dtypes"
   ]
  },
  {
   "cell_type": "markdown",
   "metadata": {},
   "source": [
    "All six of the columns have the object data type. Full details of these attributes and their data types can be found in the [Data Dictionary](section3.3.1)."
   ]
  },
  {
   "cell_type": "code",
   "execution_count": 24,
   "metadata": {},
   "outputs": [
    {
     "name": "stdout",
     "output_type": "stream",
     "text": [
      "<class 'pandas.core.frame.DataFrame'>\n",
      "RangeIndex: 19551 entries, 0 to 19550\n",
      "Data columns (total 6 columns):\n",
      " #   Column                Non-Null Count  Dtype \n",
      "---  ------                --------------  ----- \n",
      " 0   position_number       19551 non-null  object\n",
      " 1   position_description  19551 non-null  object\n",
      " 2   name                  19551 non-null  object\n",
      " 3   dob                   19551 non-null  object\n",
      " 4   nationality           19551 non-null  object\n",
      " 5   value                 18567 non-null  object\n",
      "dtypes: object(6)\n",
      "memory usage: 916.6+ KB\n"
     ]
    }
   ],
   "source": [
    "# Info for the raw DataFrame, df_tm_raw\n",
    "df_tm_raw.info()"
   ]
  },
  {
   "cell_type": "code",
   "execution_count": 25,
   "metadata": {},
   "outputs": [
    {
     "data": {
      "text/html": [
       "<div>\n",
       "<style scoped>\n",
       "    .dataframe tbody tr th:only-of-type {\n",
       "        vertical-align: middle;\n",
       "    }\n",
       "\n",
       "    .dataframe tbody tr th {\n",
       "        vertical-align: top;\n",
       "    }\n",
       "\n",
       "    .dataframe thead th {\n",
       "        text-align: right;\n",
       "    }\n",
       "</style>\n",
       "<table border=\"1\" class=\"dataframe\">\n",
       "  <thead>\n",
       "    <tr style=\"text-align: right;\">\n",
       "      <th></th>\n",
       "      <th>position_number</th>\n",
       "      <th>position_description</th>\n",
       "      <th>name</th>\n",
       "      <th>dob</th>\n",
       "      <th>nationality</th>\n",
       "      <th>value</th>\n",
       "    </tr>\n",
       "  </thead>\n",
       "  <tbody>\n",
       "    <tr>\n",
       "      <th>count</th>\n",
       "      <td>19551</td>\n",
       "      <td>19551</td>\n",
       "      <td>19551</td>\n",
       "      <td>19551</td>\n",
       "      <td>19551</td>\n",
       "      <td>18567</td>\n",
       "    </tr>\n",
       "    <tr>\n",
       "      <th>unique</th>\n",
       "      <td>102</td>\n",
       "      <td>16</td>\n",
       "      <td>19254</td>\n",
       "      <td>6347</td>\n",
       "      <td>1252</td>\n",
       "      <td>142</td>\n",
       "    </tr>\n",
       "    <tr>\n",
       "      <th>top</th>\n",
       "      <td>7</td>\n",
       "      <td>Centre-Back</td>\n",
       "      <td>Paulinho</td>\n",
       "      <td>- (-)</td>\n",
       "      <td>England</td>\n",
       "      <td>£270k</td>\n",
       "    </tr>\n",
       "    <tr>\n",
       "      <th>freq</th>\n",
       "      <td>637</td>\n",
       "      <td>3284</td>\n",
       "      <td>8</td>\n",
       "      <td>32</td>\n",
       "      <td>1203</td>\n",
       "      <td>1594</td>\n",
       "    </tr>\n",
       "  </tbody>\n",
       "</table>\n",
       "</div>"
      ],
      "text/plain": [
       "       position_number position_description      name    dob nationality  \\\n",
       "count            19551                19551     19551  19551       19551   \n",
       "unique             102                   16     19254   6347        1252   \n",
       "top                  7          Centre-Back  Paulinho  - (-)     England   \n",
       "freq               637                 3284         8     32        1203   \n",
       "\n",
       "        value  \n",
       "count   18567  \n",
       "unique    142  \n",
       "top     £270k  \n",
       "freq     1594  "
      ]
     },
     "execution_count": 25,
     "metadata": {},
     "output_type": "execute_result"
    }
   ],
   "source": [
    "# Description of the raw DataFrame, df_tm_raw, showing some summary statistics for each numberical column in the DataFrame\n",
    "df_tm_raw.describe()"
   ]
  },
  {
   "cell_type": "code",
   "execution_count": 26,
   "metadata": {},
   "outputs": [
    {
     "data": {
      "text/plain": [
       "<matplotlib.axes._subplots.AxesSubplot at 0x1a17c2aa50>"
      ]
     },
     "execution_count": 26,
     "metadata": {},
     "output_type": "execute_result"
    },
    {
     "data": {
      "image/png": "[encoded data removed]",
      "text/plain": [
       "<Figure size 2160x504 with 2 Axes>"
      ]
     },
     "metadata": {},
     "output_type": "display_data"
    }
   ],
   "source": [
    "# Plot visualisation of the missing values for each feature of the raw DataFrame, df_tm_raw\n",
    "msno.matrix(df_fifa_raw, figsize = (30, 7))"
   ]
  },
  {
   "cell_type": "code",
   "execution_count": 27,
   "metadata": {},
   "outputs": [
    {
     "data": {
      "text/plain": [
       "value    984\n",
       "dtype: int64"
      ]
     },
     "execution_count": 27,
     "metadata": {},
     "output_type": "execute_result"
    }
   ],
   "source": [
    "# Counts of missing values\n",
    "tm_null_value_stats = df_tm_raw.isnull().sum(axis=0)\n",
    "tm_null_value_stats[tm_null_value_stats != 0]"
   ]
  },
  {
   "cell_type": "markdown",
   "metadata": {},
   "source": [
    "The visualisation shows us very quickly that there missing values in the `value` column."
   ]
  },
  {
   "cell_type": "markdown",
   "metadata": {},
   "source": [
    "<a id='section4'></a>"
   ]
  },
  {
   "cell_type": "markdown",
   "metadata": {},
   "source": [
    "## 4. Data Engineering"
   ]
  },
  {
   "cell_type": "markdown",
   "metadata": {},
   "source": [
    "<a id='section4.1'></a>"
   ]
  },
  {
   "cell_type": "markdown",
   "metadata": {},
   "source": [
    "### 4.1. Introduction\n",
    "Before we answer the questions in the brief through [Exploratory Data Analysis (EDA)](#section5), we'll first need to clean, wrangle, and join the two datasets to be in a form that meet our needs.\n",
    "\n",
    "Because the two datasets will be joined, extra care is required when engineering this dataset and as you'll see for the [TransferMarkt](https://www.transfermarkt.co.uk/) data, a lot of different techniques will be used to get the data ready.\n",
    "\n",
    "As per the [Data Sources](#section3) section, this Data Engineering section has been has been split into the two datasets that are to be worked on - the [FIFA 20](https://www.ea.com/en-gb/games/fifa/fifa-20) DataFrame (`df_fifa_raw`) and the scraped [TransferMarkt](https://www.transfermarkt.co.uk/) DataFrame (`df_tm_raw`).\n",
    "\n",
    "These two data sources are joined to create a single DataFrame in [section 4.4](#section4.4) before going on to be analysed for the best value players in [section 5](#section5)."
   ]
  },
  {
   "cell_type": "markdown",
   "metadata": {},
   "source": [
    "<a id='section4.2'></a>"
   ]
  },
  {
   "cell_type": "markdown",
   "metadata": {},
   "source": [
    "### 4.2. FIFA 20"
   ]
  },
  {
   "cell_type": "markdown",
   "metadata": {},
   "source": [
    "<a id='section4.2.1'></a>"
   ]
  },
  {
   "cell_type": "markdown",
   "metadata": {},
   "source": [
    "#### 4.2.1. Columns of Interest"
   ]
  },
  {
   "cell_type": "markdown",
   "metadata": {},
   "source": [
    "Of the one hundered and four columns in the original [FIFA 20](https://www.ea.com/en-gb/games/fifa/fifa-20) dataset, we are only interested in sixty seven of the columns, which are the following:\n",
    "*    `short_name`\n",
    "*    `long_name`\n",
    "*    `age`\n",
    "*    `dob`\n",
    "*    `height_cm`\n",
    "*    `weight_kg`\n",
    "*    `nationality`\n",
    "*    `club`\n",
    "*    `overall`\n",
    "*    `player_positions`\n",
    "*    `preferred_foot`\n",
    "*    `weak_foot`\n",
    "*    `skill_moves`\n",
    "*    `work_rate`\n",
    "*    `body_type`\n",
    "*    `player_tags`\n",
    "*    `team_position`\n",
    "*    `team_jersey_number`\n",
    "*    `nation_position`\n",
    "*    `nation_jersey_number`\n",
    "*    `pace`\n",
    "*    `shooting`\n",
    "*    `passing`\n",
    "*    `dribbling`\n",
    "*    `defending`\n",
    "*    `physic`\n",
    "*    `gk_diving`\n",
    "*    `gk_handling`\n",
    "*    `gk_kicking`\n",
    "*    `gk_reflexes`\n",
    "*    `gk_speed`\n",
    "*    `gk_positioning`\n",
    "*    `player_traits`\n",
    "*    `attacking_crossing`\n",
    "*    `attacking_finishing`\n",
    "*    `attacking_heading_accuracy`\n",
    "*    `attacking_short_passing`\n",
    "*    `attacking_volleys`\n",
    "*    `skill_dribbling`\n",
    "*    `skill_curve`\n",
    "*    `skill_fk_accuracy`\n",
    "*    `skill_long_passing`\n",
    "*    `skill_ball_control`\n",
    "*    `movement_acceleration`\n",
    "*    `movement_sprint_speed`\n",
    "*    `movement_agility`\n",
    "*    `movement_reactions`\n",
    "*    `movement_balance`\n",
    "*    `power_shot_power`\n",
    "*    `power_jumping`\n",
    "*    `power_stamina`\n",
    "*    `power_strength`\n",
    "*    `power_long_shots`\n",
    "*    `mentality_aggression`\n",
    "*    `mentality_interceptions`\n",
    "*    `mentality_positioning`\n",
    "*    `mentality_vision`\n",
    "*    `mentality_penalties`\n",
    "*    `mentality_composure`\n",
    "*    `defending_marking`\n",
    "*    `defending_standing_tackle`\n",
    "*    `defending_sliding_tackle`\n",
    "*    `goalkeeping_diving`\n",
    "*    `goalkeeping_handling`\n",
    "*    `goalkeeping_kicking`\n",
    "*    `goalkeeping_positioning`\n",
    "*    `goalkeeping_reflexes`\n",
    "\n",
    "These column names are taken and used to create a list, which is used to build the more concise DataFrame, `df_fifa`."
   ]
  },
  {
   "cell_type": "code",
   "execution_count": 28,
   "metadata": {},
   "outputs": [],
   "source": [
    "# Select columns of interest\n",
    "cols = ['short_name', 'long_name', 'age', 'dob', 'height_cm', 'weight_kg', 'nationality', 'club', 'overall', 'player_positions', 'preferred_foot', 'weak_foot', 'skill_moves', 'work_rate', 'body_type', 'player_tags', 'team_position', 'team_jersey_number', 'nation_position', 'nation_jersey_number', 'pace', 'shooting', 'passing', 'dribbling', 'defending', 'physic', 'gk_diving', 'gk_handling', 'gk_kicking', 'gk_reflexes', 'gk_speed', 'gk_positioning', 'player_traits', 'attacking_crossing', 'attacking_finishing', 'attacking_heading_accuracy', 'attacking_short_passing', 'attacking_volleys', 'skill_dribbling', 'skill_curve', 'skill_fk_accuracy', 'skill_long_passing', 'skill_ball_control', 'movement_acceleration', 'movement_sprint_speed', 'movement_agility', 'movement_reactions', 'movement_balance', 'power_shot_power', 'power_jumping', 'power_stamina', 'power_strength', 'power_long_shots', 'mentality_aggression', 'mentality_interceptions', 'mentality_positioning', 'mentality_vision', 'mentality_penalties', 'mentality_composure', 'defending_marking', 'defending_standing_tackle', 'defending_sliding_tackle', 'goalkeeping_diving', 'goalkeeping_handling', 'goalkeeping_kicking', 'goalkeeping_positioning', 'goalkeeping_reflexes']\n",
    "df_fifa = df_fifa_raw[cols]"
   ]
  },
  {
   "cell_type": "markdown",
   "metadata": {},
   "source": [
    "<a id='section4.2.2'></a>"
   ]
  },
  {
   "cell_type": "markdown",
   "metadata": {},
   "source": [
    "#### 4.2.2. Converting Data Types\n",
    "Next we need to convert all the columns with their proper data types.\n",
    "\n",
    "For the [FIFA 20](https://www.ea.com/en-gb/games/fifa/fifa-20) dataset, we are only required to convert the `dob` column from the `object` data type to `datetime64[ns]` using the [.to_datetime()](https://pandas.pydata.org/pandas-docs/stable/reference/api/pandas.to_datetime.html) method."
   ]
  },
  {
   "cell_type": "code",
   "execution_count": 29,
   "metadata": {},
   "outputs": [
    {
     "name": "stderr",
     "output_type": "stream",
     "text": [
      "/opt/anaconda3/lib/python3.7/site-packages/ipykernel_launcher.py:2: SettingWithCopyWarning: \n",
      "A value is trying to be set on a copy of a slice from a DataFrame.\n",
      "Try using .loc[row_indexer,col_indexer] = value instead\n",
      "\n",
      "See the caveats in the documentation: https://pandas.pydata.org/pandas-docs/stable/user_guide/indexing.html#returning-a-view-versus-a-copy\n",
      "  \n"
     ]
    }
   ],
   "source": [
    "# Convert dob from string to datetime64[ns]\n",
    "df_fifa['dob'] = pd.to_datetime(df_fifa['dob'], format='%Y/%m/%d')"
   ]
  },
  {
   "cell_type": "markdown",
   "metadata": {},
   "source": [
    "<a id='section4.2.4'></a>"
   ]
  },
  {
   "cell_type": "markdown",
   "metadata": {},
   "source": [
    "#### 4.2.4. Exporting the Engineered DataFrame\n",
    "Fianlly for this section, let's export the engineered DataFrame, `df_fifa`, as a CSV file using the [.to_csv()](https://pandas.pydata.org/pandas-docs/stable/reference/api/pandas.DataFrame.to_csv.html) method. This file can now be used by anyone, even those who just wish to see the data in Excel. This file will be saved in the 'export' subfolder."
   ]
  },
  {
   "cell_type": "code",
   "execution_count": 30,
   "metadata": {},
   "outputs": [],
   "source": [
    "df_fifa.to_csv(dataDir + 'export/' + 'data_fifa_cleaned.csv', index = None, header=True)"
   ]
  },
  {
   "cell_type": "markdown",
   "metadata": {},
   "source": [
    "<a id='section4.3'></a>"
   ]
  },
  {
   "cell_type": "markdown",
   "metadata": {},
   "source": [
    "### 4.3. TransferMarkt"
   ]
  },
  {
   "cell_type": "markdown",
   "metadata": {},
   "source": [
    "<a id='section4.3.1'></a>"
   ]
  },
  {
   "cell_type": "markdown",
   "metadata": {},
   "source": [
    "#### 4.3.1. String Cleaning\n",
    "The first job to do for getting the [TransferMarkt](https://www.transfermarkt.co.uk/) DataFrame ready to be joined to the  [FIFA 20](https://www.ea.com/en-gb/games/fifa/fifa-20) dataset is to clean the key strings. These include:\n",
    "*    `dob` (to become seperate `DoB` and `Age` columns),\n",
    "*    `nationality`, and\n",
    "*    `value`."
   ]
  },
  {
   "cell_type": "markdown",
   "metadata": {},
   "source": [
    "##### DoB and Age\n",
    "The `dob` column is messy and contains both the date of birth as a string and also the age in brackets.\n",
    "\n",
    "This string cleaning consists of two parts, firstly, to split this apart into their seperate components. However, once the `age` column is created, we will replaced this by determining the current age using the Python [datetime](https://docs.python.org/3/library/datetime.html) module."
   ]
  },
  {
   "cell_type": "code",
   "execution_count": 31,
   "metadata": {},
   "outputs": [
    {
     "ename": "AttributeError",
     "evalue": "'str' object has no attribute 'year'",
     "output_type": "error",
     "traceback": [
      "\u001b[0;31m---------------------------------------------------------------------------\u001b[0m",
      "\u001b[0;31mAttributeError\u001b[0m                            Traceback (most recent call last)",
      "\u001b[0;32m<ipython-input-31-c8c5bc6fe98e>\u001b[0m in \u001b[0;36m<module>\u001b[0;34m\u001b[0m\n\u001b[1;32m     11\u001b[0m \u001b[0mtoday\u001b[0m \u001b[0;34m=\u001b[0m \u001b[0mdatetime\u001b[0m\u001b[0;34m.\u001b[0m\u001b[0mtoday\u001b[0m\u001b[0;34m(\u001b[0m\u001b[0;34m)\u001b[0m\u001b[0;34m\u001b[0m\u001b[0;34m\u001b[0m\u001b[0m\n\u001b[1;32m     12\u001b[0m df_tm['age'] = df_tm['birth_date'].apply(\n\u001b[0;32m---> 13\u001b[0;31m                 \u001b[0;32mlambda\u001b[0m \u001b[0mx\u001b[0m\u001b[0;34m:\u001b[0m \u001b[0mtoday\u001b[0m\u001b[0;34m.\u001b[0m\u001b[0myear\u001b[0m \u001b[0;34m-\u001b[0m \u001b[0mx\u001b[0m\u001b[0;34m.\u001b[0m\u001b[0myear\u001b[0m \u001b[0;34m-\u001b[0m\u001b[0;34m\u001b[0m\u001b[0;34m\u001b[0m\u001b[0m\n\u001b[0m\u001b[1;32m     14\u001b[0m                 \u001b[0;34m(\u001b[0m\u001b[0;34m(\u001b[0m\u001b[0mtoday\u001b[0m\u001b[0;34m.\u001b[0m\u001b[0mmonth\u001b[0m\u001b[0;34m,\u001b[0m \u001b[0mtoday\u001b[0m\u001b[0;34m.\u001b[0m\u001b[0mday\u001b[0m\u001b[0;34m)\u001b[0m \u001b[0;34m<\u001b[0m \u001b[0;34m(\u001b[0m\u001b[0mx\u001b[0m\u001b[0;34m.\u001b[0m\u001b[0mmonth\u001b[0m\u001b[0;34m,\u001b[0m \u001b[0mx\u001b[0m\u001b[0;34m.\u001b[0m\u001b[0mday\u001b[0m\u001b[0;34m)\u001b[0m\u001b[0;34m)\u001b[0m\u001b[0;34m\u001b[0m\u001b[0;34m\u001b[0m\u001b[0m\n\u001b[1;32m     15\u001b[0m                 )\n",
      "\u001b[0;32m/opt/anaconda3/lib/python3.7/site-packages/pandas/core/series.py\u001b[0m in \u001b[0;36mapply\u001b[0;34m(self, func, convert_dtype, args, **kwds)\u001b[0m\n\u001b[1;32m   3846\u001b[0m             \u001b[0;32melse\u001b[0m\u001b[0;34m:\u001b[0m\u001b[0;34m\u001b[0m\u001b[0;34m\u001b[0m\u001b[0m\n\u001b[1;32m   3847\u001b[0m                 \u001b[0mvalues\u001b[0m \u001b[0;34m=\u001b[0m \u001b[0mself\u001b[0m\u001b[0;34m.\u001b[0m\u001b[0mastype\u001b[0m\u001b[0;34m(\u001b[0m\u001b[0mobject\u001b[0m\u001b[0;34m)\u001b[0m\u001b[0;34m.\u001b[0m\u001b[0mvalues\u001b[0m\u001b[0;34m\u001b[0m\u001b[0;34m\u001b[0m\u001b[0m\n\u001b[0;32m-> 3848\u001b[0;31m                 \u001b[0mmapped\u001b[0m \u001b[0;34m=\u001b[0m \u001b[0mlib\u001b[0m\u001b[0;34m.\u001b[0m\u001b[0mmap_infer\u001b[0m\u001b[0;34m(\u001b[0m\u001b[0mvalues\u001b[0m\u001b[0;34m,\u001b[0m \u001b[0mf\u001b[0m\u001b[0;34m,\u001b[0m \u001b[0mconvert\u001b[0m\u001b[0;34m=\u001b[0m\u001b[0mconvert_dtype\u001b[0m\u001b[0;34m)\u001b[0m\u001b[0;34m\u001b[0m\u001b[0;34m\u001b[0m\u001b[0m\n\u001b[0m\u001b[1;32m   3849\u001b[0m \u001b[0;34m\u001b[0m\u001b[0m\n\u001b[1;32m   3850\u001b[0m         \u001b[0;32mif\u001b[0m \u001b[0mlen\u001b[0m\u001b[0;34m(\u001b[0m\u001b[0mmapped\u001b[0m\u001b[0;34m)\u001b[0m \u001b[0;32mand\u001b[0m \u001b[0misinstance\u001b[0m\u001b[0;34m(\u001b[0m\u001b[0mmapped\u001b[0m\u001b[0;34m[\u001b[0m\u001b[0;36m0\u001b[0m\u001b[0;34m]\u001b[0m\u001b[0;34m,\u001b[0m \u001b[0mSeries\u001b[0m\u001b[0;34m)\u001b[0m\u001b[0;34m:\u001b[0m\u001b[0;34m\u001b[0m\u001b[0;34m\u001b[0m\u001b[0m\n",
      "\u001b[0;32mpandas/_libs/lib.pyx\u001b[0m in \u001b[0;36mpandas._libs.lib.map_infer\u001b[0;34m()\u001b[0m\n",
      "\u001b[0;32m<ipython-input-31-c8c5bc6fe98e>\u001b[0m in \u001b[0;36m<lambda>\u001b[0;34m(x)\u001b[0m\n\u001b[1;32m     11\u001b[0m \u001b[0mtoday\u001b[0m \u001b[0;34m=\u001b[0m \u001b[0mdatetime\u001b[0m\u001b[0;34m.\u001b[0m\u001b[0mtoday\u001b[0m\u001b[0;34m(\u001b[0m\u001b[0;34m)\u001b[0m\u001b[0;34m\u001b[0m\u001b[0;34m\u001b[0m\u001b[0m\n\u001b[1;32m     12\u001b[0m df_tm['age'] = df_tm['birth_date'].apply(\n\u001b[0;32m---> 13\u001b[0;31m                 \u001b[0;32mlambda\u001b[0m \u001b[0mx\u001b[0m\u001b[0;34m:\u001b[0m \u001b[0mtoday\u001b[0m\u001b[0;34m.\u001b[0m\u001b[0myear\u001b[0m \u001b[0;34m-\u001b[0m \u001b[0mx\u001b[0m\u001b[0;34m.\u001b[0m\u001b[0myear\u001b[0m \u001b[0;34m-\u001b[0m\u001b[0;34m\u001b[0m\u001b[0;34m\u001b[0m\u001b[0m\n\u001b[0m\u001b[1;32m     14\u001b[0m                 \u001b[0;34m(\u001b[0m\u001b[0;34m(\u001b[0m\u001b[0mtoday\u001b[0m\u001b[0;34m.\u001b[0m\u001b[0mmonth\u001b[0m\u001b[0;34m,\u001b[0m \u001b[0mtoday\u001b[0m\u001b[0;34m.\u001b[0m\u001b[0mday\u001b[0m\u001b[0;34m)\u001b[0m \u001b[0;34m<\u001b[0m \u001b[0;34m(\u001b[0m\u001b[0mx\u001b[0m\u001b[0;34m.\u001b[0m\u001b[0mmonth\u001b[0m\u001b[0;34m,\u001b[0m \u001b[0mx\u001b[0m\u001b[0;34m.\u001b[0m\u001b[0mday\u001b[0m\u001b[0;34m)\u001b[0m\u001b[0;34m)\u001b[0m\u001b[0;34m\u001b[0m\u001b[0;34m\u001b[0m\u001b[0m\n\u001b[1;32m     15\u001b[0m                 )\n",
      "\u001b[0;31mAttributeError\u001b[0m: 'str' object has no attribute 'year'"
     ]
    }
   ],
   "source": [
    "# Assign df_tm_raw DataFrame to df_tm\n",
    "df_tm = df_tm_raw\n",
    "\n",
    "\n",
    "# DoB string cleaning to create birth_date and age columns\n",
    "df_tm[['birth_date', 'age']] = df_tm_raw['dob'].str.extract(r'(.+) \\((\\d+)\\)')\n",
    "\n",
    "\n",
    "\n",
    "## Redetermine the age using the newly created birth_date column (after formatted to datetime data type)\n",
    "today = datetime.today()\n",
    "df_tm['age'] = df_tm['birth_date'].apply(\n",
    "                lambda x: today.year - x.year - \n",
    "                ((today.month, today.day) < (x.month, x.day)) \n",
    "                )"
   ]
  },
  {
   "cell_type": "markdown",
   "metadata": {},
   "source": [
    "##### Nationality\n",
    "For the nationality, some of the players have duel nationality.\n",
    "\n",
    "For example, [Claudio Pizarro](https://www.transfermarkt.co.uk/claudio-pizarro/profil/spieler/532) is a Peruvian-born player who has has made 85 appearances for Peru, scoring 20 goals. However, his citizenship according to [TransferMarkt](https://www.transfermarkt.co.uk/) is 'Peru / Italy'. For our needs, we only want to know the country the player is eligible to play for, not their full heritage which from observations is always the first part of the string. We'll therefore be discarding anything after the first space in the string to form a new `playing_country` column."
   ]
  },
  {
   "cell_type": "code",
   "execution_count": null,
   "metadata": {},
   "outputs": [],
   "source": [
    "# Take the first nationality i.e. text before the first space, ex. 'Peru / Italy'\n",
    "df_tm['playing_country'] = df_tm['nationality'].str.split(' /').str[0]"
   ]
  },
  {
   "cell_type": "markdown",
   "metadata": {},
   "source": [
    "##### Value\n",
    "The values of the players have prefixes (£), commas, spaces, and suffixes (m, k) that need to cleaned and replaced before converting to a numerical value."
   ]
  },
  {
   "cell_type": "code",
   "execution_count": null,
   "metadata": {},
   "outputs": [],
   "source": [
    "# Value string cleaning from shortened string value to full numerical value\n",
    "\n",
    "## Convert 'm' to '000000'\n",
    "df_tm['value'] = df_tm['value'].str.replace('m','0000')\n",
    "\n",
    "## Convert 'k' to '000'\n",
    "df_tm['value'] = df_tm['value'].str.replace('k','000')\n",
    "\n",
    "## Remove '.'\n",
    "df_tm['value'] = df_tm['value'].str.replace('.','')\n",
    "\n",
    "## Remove '£' sign\n",
    "df_tm['value'] = df_tm['value'].str.replace('£','')\n",
    "\n",
    "## Remove '-'\n",
    "df_tm['value'] = df_tm['value'].str.replace('-','')\n",
    "\n",
    "## Remove '¬†¬†'\n",
    "df_tm['value'] = df_tm['value'].str.replace('¬†¬†','')\n",
    "\n",
    "## Remove gaps\n",
    "df_tm['value'] = df_tm['value'].str.replace(' ','')"
   ]
  },
  {
   "cell_type": "markdown",
   "metadata": {},
   "source": [
    "<a id='section4.3.2'></a>"
   ]
  },
  {
   "cell_type": "markdown",
   "metadata": {},
   "source": [
    "#### 4.3.2. Converting Data Types\n",
    "As per the [FIFA 20](https://www.ea.com/en-gb/games/fifa/fifa-20) dataset, we are required to convert all the columns with their proper data types. As all six of the orginal [TransferMarkt](https://www.transfermarkt.co.uk/) columns are the `object` data type, more work will need to be done this time."
   ]
  },
  {
   "cell_type": "markdown",
   "metadata": {},
   "source": [
    "##### DoB\n",
    "First we need to convert the `dob` column from the `object` data type to `datetime64[ns]`, again using the [.to_datetime()](https://pandas.pydata.org/pandas-docs/stable/reference/api/pandas.to_datetime.html) method."
   ]
  },
  {
   "cell_type": "code",
   "execution_count": null,
   "metadata": {},
   "outputs": [],
   "source": [
    "# Convert birth_date from string to datetime64[ns]\n",
    "df_tm['birth_date'] = pd.to_datetime(df_tm['birth_date'])"
   ]
  },
  {
   "cell_type": "markdown",
   "metadata": {},
   "source": [
    "##### Age\n",
    "The calculated `age` column needs to be converted from a float to an integer, with all null values ignored, using to [astype()](https://pandas.pydata.org/pandas-docs/stable/reference/api/pandas.DataFrame.astype.html) method."
   ]
  },
  {
   "cell_type": "code",
   "execution_count": null,
   "metadata": {},
   "outputs": [],
   "source": [
    "# Convert floats to integers and leave null values\n",
    "df_tm['age'] = np.nan_to_num(df_tm['age']).astype(int)\n",
    "\n",
    "# df_tm['age'] = pd.to_numeric(df_tm['age'], downcast='signed')"
   ]
  },
  {
   "cell_type": "markdown",
   "metadata": {},
   "source": [
    "##### Value\n",
    "The `value` column needs to be converted from a string to an integer using to [to_numeric()](https://pandas.pydata.org/pandas-docs/stable/reference/api/pandas.to_numeric.html) method."
   ]
  },
  {
   "cell_type": "code",
   "execution_count": null,
   "metadata": {},
   "outputs": [],
   "source": [
    "# Convert string to integer\n",
    "df_tm['value'] = pd.to_numeric(df_tm['value'])"
   ]
  },
  {
   "cell_type": "markdown",
   "metadata": {},
   "source": [
    "<a id='section4.3.3'></a>"
   ]
  },
  {
   "cell_type": "markdown",
   "metadata": {},
   "source": [
    "#### 4.3.3. Columns of Interest"
   ]
  },
  {
   "cell_type": "markdown",
   "metadata": {},
   "source": [
    "Of the current nine columns in the [TransferMarkt](https://www.transfermarkt.co.uk/) dataset, we are only interested in five columns, which are the following:\n",
    "*    `name`\n",
    "*    `value`\n",
    "*    `birth_date`\n",
    "*    `age`\n",
    "*    `playing_country`"
   ]
  },
  {
   "cell_type": "code",
   "execution_count": null,
   "metadata": {},
   "outputs": [],
   "source": [
    "df_tm = df_tm[['name', 'value', 'birth_date', 'age', 'playing_country']]"
   ]
  },
  {
   "cell_type": "markdown",
   "metadata": {},
   "source": [
    "<a id='section4.3.4'></a>"
   ]
  },
  {
   "cell_type": "markdown",
   "metadata": {},
   "source": [
    "#### 4.3.4. Exporting the Engineered DataFrame\n",
    "Like the [FIFA 20](https://www.ea.com/en-gb/games/fifa/fifa-20) dataset, lets now export the engineered [TransferMarkt](https://www.transfermarkt.co.uk/) DataFrame, `df_tm`, as a CSV file."
   ]
  },
  {
   "cell_type": "code",
   "execution_count": null,
   "metadata": {},
   "outputs": [],
   "source": [
    "df_fifa.to_csv(dataDir + 'export/' + 'data_tm_cleaned.csv', index = None, header=True)"
   ]
  },
  {
   "cell_type": "markdown",
   "metadata": {},
   "source": [
    "Now we have created our two DataFrames and wrangled the data to meet our needs, we'll next need to merge the datasets to create a single DataFrame for [Exploratory Data Analysis ](#section5)."
   ]
  },
  {
   "cell_type": "markdown",
   "metadata": {},
   "source": [
    "<a id='section4.4'></a>"
   ]
  },
  {
   "cell_type": "markdown",
   "metadata": {},
   "source": [
    "### 4.4. Joined Dataset\n",
    "Now we have our two engineered DataFrames for [FIFA 20](https://www.ea.com/en-gb/games/fifa/fifa-20) and [TransferMarkt](https://www.transfermarkt.co.uk/) data, let's now merge them to form one dataset."
   ]
  },
  {
   "cell_type": "markdown",
   "metadata": {},
   "source": [
    "<a id='section4.4.1'></a>"
   ]
  },
  {
   "cell_type": "markdown",
   "metadata": {},
   "source": [
    "#### 4.4.1. Join the datasets using [fuzzymatcher](https://github.com/RobinL/fuzzymatcher)\n",
    "We have our cleaned datasets, however, matching of the data is still a tricky process. Let's take Lionel Messi as an example.\n",
    "\n",
    "In the [FIFA 20](https://www.ea.com/en-gb/games/fifa/fifa-20) database, he has the short_name of L. Messi and a long_name of Lionel Andrés Messi Cuccittini. In [TransferMarkt](https://www.transfermarkt.co.uk/), his name is Lionel Messi.\n",
    "\n",
    "There are no real set rules for players like this. For example, many South American players can be known by a one word moniker on [TransferMarkt](https://www.transfermarkt.co.uk/) e.g. Real Madrid's Casemiero, but then have their full names in the [FIFA 20](https://www.ea.com/en-gb/games/fifa/fifa-20) dataset - Carlos Henrique Venancio Casimiro.\n",
    "\n",
    "We are then left in a state of trying to join two data sets together that do not have a common unique identifier.\n",
    "\n",
    "However, to combat this, we can use a third-party Python library - [fuzzymatcher](https://github.com/RobinL/fuzzymatcher), installed using pip install fuzzymatcher. [fuzzymatcher](https://github.com/RobinL/fuzzymatcher) provides a simple interface to link two pandas DataFrames together using probabilistic record linkage.\n",
    "\n",
    "We need to define which columns to match for the left and right DataFrames. In this join, the [FIFA 20](https://www.ea.com/en-gb/games/fifa/fifa-20) data will be the left DataFrame and the [TransferMarkt](https://www.transfermarkt.co.uk/) data will be the right."
   ]
  },
  {
   "cell_type": "code",
   "execution_count": null,
   "metadata": {},
   "outputs": [],
   "source": [
    "# Define left and right DataFrames\n",
    "left_on = [\"long_name\", \"dob\", \"nationality\"]\n",
    "right_on = [\"name\", \"birth_date\", \"playing_country\"]"
   ]
  },
  {
   "cell_type": "markdown",
   "metadata": {},
   "source": [
    "With the folllowing code, [fuzzymatcher](https://github.com/RobinL/fuzzymatcher) figures out the matches using fuzzy_left_join:"
   ]
  },
  {
   "cell_type": "code",
   "execution_count": null,
   "metadata": {},
   "outputs": [],
   "source": [
    "df_fifa_tm_joined = fuzzymatcher.fuzzy_left_join(df_fifa, df_tm, left_on, right_on #,\n",
    "                                                 # left_id_col='x', right_id_col='y'    # useful but not using\n",
    "                                                 )"
   ]
  },
  {
   "cell_type": "markdown",
   "metadata": {},
   "source": [
    "Behind the scenes, [fuzzymatcher](https://github.com/RobinL/fuzzymatcher) determines the best match for each combination.\n",
    "\n",
    "The `df_fifa_tm_joined` DataFrame contains all the data linked together as well as as `best_match_score` which shows the quality of the link.\n",
    "\n",
    "Here’s a subset of the columns rearranged in a more readable format for the top ten best matches:"
   ]
  },
  {
   "cell_type": "code",
   "execution_count": null,
   "metadata": {
    "scrolled": false
   },
   "outputs": [],
   "source": [
    "df_fifa_tm_joined.head(10)"
   ]
  },
  {
   "cell_type": "markdown",
   "metadata": {},
   "source": [
    "##### Observations:\n",
    "*    18,278 total players in the database\n",
    "*    13,790 (75.4%) correct matches when using a matching DoB of the [FIFA 20](https://www.ea.com/en-gb/games/fifa/fifa-20) and [TransferMarkt](https://www.transfermarkt.co.uk/) as confirmation.\n",
    "*    4,488 (24.6%) incorrect matches when using an unmatching DoB (DoB of  data).\n",
    "*    In total, 4,945 players were unable to be matched.\n",
    "\n",
    "More usefully, of the top 250 players (players rated 82 and above), 12 players failed to be matched correctly. These include:\n",
    "*    H. Son\n",
    "*    Isco\n",
    "*    Koke\n",
    "*    Pepe\n",
    "*    Mario Mandzukic\n",
    "*    Paulinho\n",
    "*    Pizzi\n",
    "*    Anderson Talisca\n",
    "*    Oscar\n",
    "*    Louri Beretta*\n",
    "*    Josue Chiamulera*\n",
    "*    Ronaldo Cabrais*\n",
    "\n",
    "This is quite a good success rate for the matching because for the use of a FIFA fantasy football league, the top 250 players covers most of the players to be selected (all players rated 82 and above).\n",
    "\n",
    "\n",
    "##### A Closer Inspection of the Mismatches\n",
    "Of these twelve players that didn't match correctly, two are Spanish, 1 Korean, 2 Portuguese, and are 6 Brazilian.\n",
    "\n",
    "Upon inspection, the errors appear to have come from the difference between Latin American players birth names as per the database and their 'shirt' name/moniker as per the [TransferMarkt](https://www.transfermarkt.co.uk/) website.\n",
    "\n",
    "Heung-min Son failed to match because his name in the [FIFA 20](https://www.ea.com/en-gb/games/fifa/fifa-20) database is in Korean where as his name on [TransferMarkt](https://www.transfermarkt.co.uk/) is in English.\n",
    "\n",
    "[Louri Beretta](https://sofifa.com/player/230294/lourival-adnan-beretta-barbosa/200034), [Josué Durval Chiamulera Vaz](https://sofifa.com/player/230375/josue-durval-chiamulera-vaz/200035/), and [Ronaldo Cabrais](https://sofifa.com/player/230481/ronaldo-jailson-cabrais-petri/200026) are unlicensed Brazilian players who do not exist in real-life and therefore cannot be matched. The data matching would be improved if these unlicensed players were detected before the data matching and then added back into the database later.\n",
    "\n",
    "Therefore, it was infact only 9 players of the top 247 players that didn't match.\n",
    "\n",
    "The fuzzymatcher matching is good, but to work better, greater emphasis needs to be placed on matching the DoB and not just the names. I will look to improve this by using more sophisticated algorithms, such as [Python Record Linkage Toolkit](https://recordlinkage.readthedocs.io/en/latest/about.html)."
   ]
  },
  {
   "cell_type": "markdown",
   "metadata": {},
   "source": [
    "<a id='section4.4.2'></a>"
   ]
  },
  {
   "cell_type": "markdown",
   "metadata": {},
   "source": [
    "#### 4.4.2. Fix Bad Matches\n",
    "For the 4,488 incorrect matches according to DoB, the `value` of the player needs to be nullified to prevent misrepresentation of players values in the dataset. Other mismatched columns including `birth_date`, `age_right`, and `playing_country` are going to be removed anyway and therefore don't needed to be fixed."
   ]
  },
  {
   "cell_type": "code",
   "execution_count": null,
   "metadata": {},
   "outputs": [],
   "source": [
    "df_fifa_tm_joined = df_fifa_tm_joined[['short_name', 'long_name', 'name', 'age_left', 'dob', 'birth_date', 'value',  'nationality', 'club', 'overall', 'player_positions', 'preferred_foot', 'weak_foot', 'skill_moves', 'work_rate', 'height_cm', 'weight_kg', 'body_type', 'player_tags', 'team_position', 'team_jersey_number', 'nation_position', 'nation_jersey_number', 'pace', 'shooting', 'passing', 'dribbling', 'defending', 'physic', 'gk_diving', 'gk_handling', 'gk_kicking', 'gk_reflexes', 'gk_speed', 'gk_positioning', 'player_traits', 'attacking_crossing', 'attacking_finishing', 'attacking_heading_accuracy', 'attacking_short_passing', 'attacking_volleys', 'skill_dribbling', 'skill_curve', 'skill_fk_accuracy', 'skill_long_passing', 'skill_ball_control', 'movement_acceleration', 'movement_sprint_speed', 'movement_agility', 'movement_reactions', 'movement_balance', 'power_shot_power', 'power_jumping', 'power_stamina', 'power_strength', 'power_long_shots', 'mentality_aggression', 'mentality_interceptions', 'mentality_positioning', 'mentality_vision', 'mentality_penalties', 'mentality_composure', 'defending_marking', 'defending_standing_tackle', 'defending_sliding_tackle', 'goalkeeping_diving', 'goalkeeping_handling', 'goalkeeping_kicking', 'goalkeeping_positioning', 'goalkeeping_reflexes']]"
   ]
  },
  {
   "cell_type": "code",
   "execution_count": null,
   "metadata": {},
   "outputs": [],
   "source": [
    "df_fifa_tm_joined['value'] = np.where((df_fifa_tm_joined['dob'] != df_fifa_tm_joined['birth_date']), np.nan, df_fifa_tm_joined['value'])"
   ]
  },
  {
   "cell_type": "markdown",
   "metadata": {},
   "source": [
    "<a id='section4.4.3'></a>"
   ]
  },
  {
   "cell_type": "markdown",
   "metadata": {},
   "source": [
    "#### 4.4.3. Reorganise the New Dataset"
   ]
  },
  {
   "cell_type": "code",
   "execution_count": null,
   "metadata": {},
   "outputs": [],
   "source": [
    "# Rename some columns\n",
    "df_fifa_tm_joined = df_fifa_tm_joined.rename(columns={'long_name':'player_name',\n",
    "                                                      'age_left': 'age',\n",
    "                                                      'dob': 'date_of_birth',\n",
    "                                                      'value': 'value_gbp',\n",
    "                                                      'overall': 'overall_fifa_rating' \n",
    "                                             })\n",
    "\n",
    "# Select only columns of interest, reorganise columns and remove some duplicate columns\n",
    "df_fifa_tm_joined = df_fifa_tm_joined[['player_name', 'age', 'date_of_birth', 'value_gbp', 'overall_fifa_rating', 'nationality', 'club', 'player_positions', 'preferred_foot', 'weak_foot', 'skill_moves', 'work_rate', 'height_cm', 'weight_kg', 'body_type', 'player_tags', 'team_position', 'team_jersey_number', 'nation_position', 'nation_jersey_number', 'pace', 'shooting', 'passing', 'dribbling', 'defending', 'physic', 'gk_diving', 'gk_handling', 'gk_kicking', 'gk_reflexes', 'gk_speed', 'gk_positioning', 'player_traits', 'attacking_crossing', 'attacking_finishing', 'attacking_heading_accuracy', 'attacking_short_passing', 'attacking_volleys', 'skill_dribbling', 'skill_curve', 'skill_fk_accuracy', 'skill_long_passing', 'skill_ball_control', 'movement_acceleration', 'movement_sprint_speed', 'movement_agility', 'movement_reactions', 'movement_balance', 'power_shot_power', 'power_jumping', 'power_stamina', 'power_strength', 'power_long_shots', 'mentality_aggression', 'mentality_interceptions', 'mentality_positioning', 'mentality_vision', 'mentality_penalties', 'mentality_composure', 'defending_marking', 'defending_standing_tackle', 'defending_sliding_tackle', 'goalkeeping_diving', 'goalkeeping_handling', 'goalkeeping_kicking', 'goalkeeping_positioning', 'goalkeeping_reflexes']]\n",
    "\n",
    "# Order by player rating\n",
    "df_fifa_tm_joined = df_fifa_tm_joined.sort_values(by='overall_fifa_rating', ascending=False)"
   ]
  },
  {
   "cell_type": "markdown",
   "metadata": {},
   "source": [
    "<a id='section4.4.3'></a>"
   ]
  },
  {
   "cell_type": "markdown",
   "metadata": {},
   "source": [
    "#### 4.4.4. Exporting the Joined DataFrame\n",
    "Let's export the merged DataFrame, `df_fifa_tm_joined` as a CSV file."
   ]
  },
  {
   "cell_type": "code",
   "execution_count": null,
   "metadata": {},
   "outputs": [],
   "source": [
    "df_fifa_tm_joined.to_csv(dataDir + 'export/' + 'data_fifa_tm_joined.csv', index = None, header=True)"
   ]
  },
  {
   "cell_type": "markdown",
   "metadata": {},
   "source": [
    "Now we have created a pandas DataFrame and wrangled the data to meet our needs, we'll next conduct and [Exploratory Data Analysis ](#section5) to determine the best value players in the [FIFA 20](https://www.ea.com/en-gb/games/fifa/fifa-20) database."
   ]
  },
  {
   "cell_type": "markdown",
   "metadata": {},
   "source": [
    "<a id='section5'></a>"
   ]
  },
  {
   "cell_type": "markdown",
   "metadata": {},
   "source": [
    "## 5. Exploratory Data Analysis"
   ]
  },
  {
   "cell_type": "markdown",
   "metadata": {},
   "source": [
    "<a id='section5.1'></a>"
   ]
  },
  {
   "cell_type": "markdown",
   "metadata": {},
   "source": [
    "### 5.1. Create New Metrics - Rating per GBP\n",
    "Before conducting the analysis and searching for value-for-money players, we need to create a new metric - Rating per GBP. Those players with a higher Rating per GBP effectively get more bang for the buck and can therefore be considered as better value players."
   ]
  },
  {
   "cell_type": "code",
   "execution_count": null,
   "metadata": {},
   "outputs": [],
   "source": [
    "# Create new metric - Rating per GBP\n",
    "df_fifa_tm_joined['rating_per_gbp'] = df_fifa_tm_joined['overall_fifa_rating'] / df_fifa_tm_joined['value_gbp']"
   ]
  },
  {
   "cell_type": "code",
   "execution_count": null,
   "metadata": {
    "scrolled": false
   },
   "outputs": [],
   "source": [
    "# Order the DataFrame descending by newly created `rating_per_gbp` column\n",
    "df_fifa_tm_joined = df_fifa_tm_joined.sort_values(by='rating_per_gbp', ascending=False)\n",
    "\n",
    "# Reorder columns with 'rating_per_gbp' as the sixth column\n",
    "df_fifa_tm_joined = df_fifa_tm_joined[['player_name', 'age', 'date_of_birth', 'value_gbp', 'overall_fifa_rating', 'rating_per_gbp', 'nationality', 'club', 'player_positions', 'preferred_foot', 'weak_foot', 'skill_moves', 'work_rate', 'height_cm', 'weight_kg', 'body_type', 'player_tags', 'team_position', 'team_jersey_number', 'nation_position', 'nation_jersey_number', 'pace', 'shooting', 'passing', 'dribbling', 'defending', 'physic', 'gk_diving', 'gk_handling', 'gk_kicking', 'gk_reflexes', 'gk_speed', 'gk_positioning', 'player_traits', 'attacking_crossing', 'attacking_finishing', 'attacking_heading_accuracy', 'attacking_short_passing', 'attacking_volleys', 'skill_dribbling', 'skill_curve', 'skill_fk_accuracy', 'skill_long_passing', 'skill_ball_control', 'movement_acceleration', 'movement_sprint_speed', 'movement_agility', 'movement_reactions', 'movement_balance', 'power_shot_power', 'power_jumping', 'power_stamina', 'power_strength', 'power_long_shots', 'mentality_aggression', 'mentality_interceptions', 'mentality_positioning', 'mentality_vision', 'mentality_penalties', 'mentality_composure', 'defending_marking', 'defending_standing_tackle', 'defending_sliding_tackle', 'goalkeeping_diving', 'goalkeeping_handling', 'goalkeeping_kicking', 'goalkeeping_positioning', 'goalkeeping_reflexes']]\n",
    "\n",
    "# Display the first 25 players\n",
    "df_fifa_tm_joined.head(25)"
   ]
  },
  {
   "cell_type": "markdown",
   "metadata": {},
   "source": [
    "The new metric `rating_per_gbp` has been created and will be extremely useful in the next stages of the analysis. However, many of the highest value players in terms of `rating_per_gbp` are quite low overall rated players - in the mid-fifty to mid-sixty range, which if you've played the FIFA game are not great and in the EFL League 1/2 level. For our Fantasy Football, we're looking for a team of high-seventy or over players. We can apply filters in the next stage of our analysis to filter out the lower rater players."
   ]
  },
  {
   "cell_type": "markdown",
   "metadata": {},
   "source": [
    "<a id='section5.2'></a>"
   ]
  },
  {
   "cell_type": "markdown",
   "metadata": {},
   "source": [
    "### 5.2. Analysis "
   ]
  },
  {
   "cell_type": "markdown",
   "metadata": {},
   "source": [
    "<a id='section5.2.1'></a>"
   ]
  },
  {
   "cell_type": "markdown",
   "metadata": {},
   "source": [
    "#### 5.2.1 Bargain Players (under £1mil, 74+ rating)\n",
    "First let's look for the best rated players we can find for a bargain place - <£1mil per player is a good place to start.\n",
    "\n",
    "Even though we want cheap players, we only want players of a certain standard. A rating of 77 or over is a useful benchmark as these are all considered 'gold' players (75-99) as per the [Ultimate Team rating system](https://www.fifauteam.com/fifa-20-players-cards-guide/)."
   ]
  },
  {
   "cell_type": "markdown",
   "metadata": {},
   "source": [
    "##### DataFrame"
   ]
  },
  {
   "cell_type": "code",
   "execution_count": null,
   "metadata": {
    "scrolled": true
   },
   "outputs": [],
   "source": [
    "# Assign df_fifa_tm_joined DataFrame to a new DataFrame, df_bargains\n",
    "df_bargains = df_fifa_tm_joined\n",
    "\n",
    "# Highly rated players only (rating of 77 or over)\n",
    "df_bargains = df_bargains.loc[(df_bargains['overall_fifa_rating'] >= 77) & (df_bargains['value_gbp'] <= 1_000_000)]\n",
    "\n",
    "# Display the top 25 players as per rating_per_gbp with a rating of 77 or over\n",
    "df_bargains.head(25)"
   ]
  },
  {
   "cell_type": "markdown",
   "metadata": {},
   "source": [
    "##### Visualisation"
   ]
  },
  {
   "cell_type": "code",
   "execution_count": null,
   "metadata": {
    "scrolled": true
   },
   "outputs": [],
   "source": [
    "# Plot the top 25 players as per rating_per_gbp with a rating of 77 or over\n",
    "df_bargains_top25 = df_bargains.nlargest(25, 'rating_per_gbp')\n",
    "\n",
    "# Set the width and height of the figure\n",
    "plt.figure(figsize=(16,10))\n",
    "\n",
    "# Plot style\n",
    "sns.set_style(\"whitegrid\")\n",
    "\n",
    "# Add title\n",
    "plt.title(\"Top 25 players by Rating per GBP with Overall Rating of 77+\")\n",
    "\n",
    "# Bar chart showing the top 25 players by Rating per GBP with Overall Rating of 77+\n",
    "sns_plot_1 = sns.barplot(x = df_bargains_top25['player_name'], y = df_bargains_top25['rating_per_gbp'])\n",
    "\n",
    "# Add labels for axes\n",
    "plt.xlabel(\"Player Name\")\n",
    "plt.ylabel(\"Rating per GBP\")\n",
    "\n",
    "# Rotate xticks 90 degrees\n",
    "plt.xticks(rotation = 90)\n",
    "\n",
    "# Save plot\n",
    "fig_1 = sns_plot_1.get_figure()\n",
    "fig_1.savefig(\"./img/fig/top25_1mil_77+rating.png\") "
   ]
  },
  {
   "cell_type": "markdown",
   "metadata": {},
   "source": [
    "##### Team Graphic"
   ]
  },
  {
   "cell_type": "markdown",
   "metadata": {},
   "source": [
    "![title](img/squads/bargains.png)"
   ]
  },
  {
   "cell_type": "markdown",
   "metadata": {},
   "source": [
    "##### Analysis"
   ]
  },
  {
   "cell_type": "code",
   "execution_count": null,
   "metadata": {},
   "outputs": [],
   "source": [
    "# List all players selected\n",
    "first_xi = ['Gianluigi Buffon',\n",
    "            'Vitorino Hilton da Silva',\n",
    "            'João Miranda de Souza Filho',\n",
    "            '長谷 部誠', 'Eljero Elia',\n",
    "            'Bruno Soriano Llido',\n",
    "            'Javier Alejandro Mascherano',\n",
    "            'Ricardo Andrade Quaresma Bernardo',\n",
    "            'Pedro Pablo Hernández',\n",
    "            'Carlos Alberto Tevez',\n",
    "            'Aritz Aduriz Zubeldia']\n",
    "\n",
    "subsitutes = ['Iker Casillas Fernández',\n",
    "              'José Manuel Reina Páez',\n",
    "              'Dante Bonfim da Costa Santos',\n",
    "              'Martin Škrtel',\n",
    "              'Marcelo Augusto Ferreira Teixeira',\n",
    "              'Klaas-Jan Huntelaar',\n",
    "              'Guillaume Hoarau']\n",
    "\n",
    "full_squad = first_xi + subsitutes"
   ]
  },
  {
   "cell_type": "code",
   "execution_count": null,
   "metadata": {},
   "outputs": [],
   "source": [
    "df_bargain_squad = df_fifa_tm_joined[df_fifa_tm_joined['player_name'].isin(full_squad)]"
   ]
  },
  {
   "cell_type": "code",
   "execution_count": null,
   "metadata": {},
   "outputs": [],
   "source": [
    "df_bargain_squad.head(18)"
   ]
  },
  {
   "cell_type": "code",
   "execution_count": null,
   "metadata": {},
   "outputs": [],
   "source": [
    "# Created groupedby DataFrame, by date and journey_full\n",
    "df_fifa_tm_joined_grouped = df_fifa_tm_joined.groupby(\n",
    "   ['overall_fifa_rating']\n",
    ").agg(\n",
    "    {\n",
    "         'value_gbp': 'mean'    # count the unique start_times to identify each journey\n",
    "    }\n",
    ").reset_index()    # reset index to get grouped columns back\n",
    "\n",
    "# Rename columns\n",
    "df_fifa_tm_joined_grouped.columns = ['overall_fifa_rating', 'average_value_gbp']"
   ]
  },
  {
   "cell_type": "code",
   "execution_count": null,
   "metadata": {},
   "outputs": [],
   "source": [
    "# Calculated Stats for the Bargain squad\n",
    "squad_name = 'Bargain'\n",
    "total_players = 18\n",
    "total_value_millions = round(((df_bargain_squad['value_gbp'].sum())) / 1_000_000, 2)\n",
    "average_value_million = round(((df_bargain_squad['value_gbp'].mean()) / 1_000_000), 2) \n",
    "average_rating = int(round(df_bargain_squad['overall_fifa_rating'].mean(), 0))\n",
    "average_rating_average_price = round(((df_fifa_tm_joined_grouped[df_fifa_tm_joined_grouped['overall_fifa_rating'] == average_rating ]['average_value_gbp'].item()) / 1_000_000), 2)\n",
    "average_rating_average_squad_price = round((average_rating_average_price * total_players), 2)\n",
    "squad_saving = round((average_rating_average_squad_price - total_value_millions), 2)"
   ]
  },
  {
   "cell_type": "code",
   "execution_count": null,
   "metadata": {},
   "outputs": [],
   "source": [
    "# Print of of stats from this squad\n",
    "print(f\"• The total cost of the {total_players} man {squad_name} squad is £{total_value_millions}mil.\\n\"\n",
    "      f\"• The average player value in this squad is £{average_value_million}mil and the average player rating is {average_rating}.\\n\"\n",
    "      f\"• The average price of players of that rating is: £{average_rating_average_price}mil which would cost £{average_rating_average_squad_price}mil for an {total_players} man squad.\\n\"\n",
    "      f\"• This equates to a total saving of £{squad_saving}mil.\")"
   ]
  },
  {
   "cell_type": "markdown",
   "metadata": {},
   "source": [
    "<a id='section5.1.2'></a>"
   ]
  },
  {
   "cell_type": "markdown",
   "metadata": {},
   "source": [
    "#### 5.2.2 Value for Money Players (under £15mil, 84+ rating)\n",
    "We've seen the bargains, but what about if we want to find the higher rated player that are still at a cut price. Let's race the filter to a rating of 84 and over and cost £15mil or less."
   ]
  },
  {
   "cell_type": "markdown",
   "metadata": {},
   "source": [
    "##### DataFrame"
   ]
  },
  {
   "cell_type": "code",
   "execution_count": null,
   "metadata": {},
   "outputs": [],
   "source": [
    "# Assign df_fifa_tm_joined DataFrame to a new DataFrame, df_value\n",
    "df_value = df_fifa_tm_joined\n",
    "\n",
    "# Highly rated players only (rating of 84 or over)\n",
    "df_value = df_value.loc[(df_value['overall_fifa_rating'] >= 84)]\n",
    "\n",
    "# Display the top 25 players as per rating_per_gbp with a rating of 84 or over\n",
    "df_value.head(25)"
   ]
  },
  {
   "cell_type": "markdown",
   "metadata": {},
   "source": [
    "##### Visualisation"
   ]
  },
  {
   "cell_type": "code",
   "execution_count": null,
   "metadata": {},
   "outputs": [],
   "source": [
    "# Plot the top 25 players as per rating_per_gbp with a rating of 84 or over\n",
    "df_value_top25 = df_value.nlargest(25, 'rating_per_gbp')\n",
    "\n",
    "# Set the width and height of the figure\n",
    "plt.figure(figsize=(16,10))\n",
    "\n",
    "# Plot style\n",
    "sns.set_style(\"whitegrid\")\n",
    "\n",
    "# Add title\n",
    "plt.title(\"Top 25 players by Rating per GBP with Overall Rating of 84+\")\n",
    "\n",
    "# Bar chart showing the top 25 players by Rating per GBP\n",
    "sns_plot_2 = sns.barplot(x = df_value_top25['player_name'], y = df_value_top25['rating_per_gbp'])\n",
    "\n",
    "# Add labels for axes\n",
    "plt.xlabel(\"Player Name\")\n",
    "plt.ylabel(\"Rating per GBP\")\n",
    "\n",
    "# Rotate xticks 90 degrees\n",
    "plt.xticks(rotation = 90)\n",
    "\n",
    "# Save plot\n",
    "fig_2 = sns_plot_2.get_figure()\n",
    "fig_2.savefig(\"./img/fig/top25_15mil_84+rating.png\") "
   ]
  },
  {
   "cell_type": "markdown",
   "metadata": {},
   "source": [
    "##### Team Graphic"
   ]
  },
  {
   "cell_type": "markdown",
   "metadata": {},
   "source": [
    "![title](img/squads/value.png)"
   ]
  },
  {
   "cell_type": "code",
   "execution_count": null,
   "metadata": {},
   "outputs": [],
   "source": [
    "# List all players selected\n",
    "first_xi = ['Samir Handanovič',\n",
    "            'Giorgio Chiellini',\n",
    "            'Thiago Emiliano da Silva',\n",
    "            'Diego Godín',\n",
    "            'Edin Višća',\n",
    "            'Fernando Luiz Rosa',\n",
    "            'Blaise Matuidi',\n",
    "            'José María Callejón Bueno\t',\n",
    "            'Luka Modrić',\n",
    "            'Zlatan Ibrahimović',\n",
    "            'Edin Džeko']\n",
    "\n",
    "subsitutes = ['Keylor Navas',\n",
    "              'João Miranda de Souza Filho',\n",
    "              'Arturo Vidal',\n",
    "              'Marek Hamšík',\n",
    "              'Lucas Pezzini Leiva',\n",
    "              'Radamel Falcao García Zárate',\n",
    "              'Edin Džeko']\n",
    "\n",
    "full_squad = first_xi + subsitutes"
   ]
  },
  {
   "cell_type": "code",
   "execution_count": null,
   "metadata": {},
   "outputs": [],
   "source": [
    "df_value_squad = df_fifa_tm_joined[df_fifa_tm_joined['player_name'].isin(full_squad)]"
   ]
  },
  {
   "cell_type": "code",
   "execution_count": null,
   "metadata": {},
   "outputs": [],
   "source": [
    "df_value_squad.head(18)"
   ]
  },
  {
   "cell_type": "code",
   "execution_count": null,
   "metadata": {},
   "outputs": [],
   "source": [
    "# Calculated Stats for the Value squad\n",
    "squad_name = 'Best Value'\n",
    "total_players = 18\n",
    "total_value_millions = round(((df_value_squad['value_gbp'].sum())) / 1_000_000, 2)\n",
    "average_value_million = round(((df_value_squad['value_gbp'].mean()) / 1_000_000), 2) \n",
    "average_rating = int(round(df_value_squad['overall_fifa_rating'].mean(), 0))\n",
    "average_rating_average_price = round(((df_fifa_tm_joined_grouped[df_fifa_tm_joined_grouped['overall_fifa_rating'] == average_rating ]['average_value_gbp'].item()) / 1_000_000), 2)\n",
    "average_rating_average_squad_price = round((average_rating_average_price * total_players), 2)\n",
    "squad_saving = round((average_rating_average_squad_price - total_value_millions), 2)"
   ]
  },
  {
   "cell_type": "code",
   "execution_count": null,
   "metadata": {},
   "outputs": [],
   "source": [
    "# Print of of stats from this squad\n",
    "print(f\"• The total cost of the {total_players} man {squad_name} squad is £{total_value_millions}mil.\\n\"\n",
    "      f\"• The average player value in this squad is £{average_value_million}mil and the average player rating is {average_rating}.\\n\"\n",
    "      f\"• The average price of players of that rating is: £{average_rating_average_price}mil which would cost £{average_rating_average_squad_price}mil for an {total_players} man squad.\\n\"\n",
    "      f\"• This equates to a total saving of £{squad_saving}mil.\")"
   ]
  },
  {
   "cell_type": "markdown",
   "metadata": {},
   "source": [
    "<a id='section5.2.3'></a>"
   ]
  },
  {
   "cell_type": "markdown",
   "metadata": {},
   "source": [
    "#### 5.2.3 Value for Money Players with pace (under 15mil, 84+ rating, 70+ pace)\n",
    "So we've seen some good value players, but from observation, a lot of these players such as Godin and Zlatan are quite slow. For the next proposed squad, we'll be usin the same filters as use in th previous 'value' squad, except this time filtering place with 70+ pace (excluding goalkeepers)."
   ]
  },
  {
   "cell_type": "markdown",
   "metadata": {},
   "source": [
    "##### DataFrame"
   ]
  },
  {
   "cell_type": "code",
   "execution_count": null,
   "metadata": {},
   "outputs": [],
   "source": [
    "# Assign df_fifa_tm_joined DataFrame to a new DataFrame, df_value\n",
    "df_value_pace = df_fifa_tm_joined\n",
    "\n",
    "# Highly rated players only (rating of 84 or over)\n",
    "df_value_pace = df_value_pace.loc[(df_value['overall_fifa_rating'] >= 84) & (df_value_pace['pace'] >= 70) & (df_value_pace['value_gbp'] <= 25_000_000)]\n",
    "\n",
    "# Display the top 25 players as per rating_per_gbp with a rating of 84 or over and minimum 70 pace\n",
    "df_value_pace.head(25)"
   ]
  },
  {
   "cell_type": "markdown",
   "metadata": {},
   "source": [
    "##### Visualisation"
   ]
  },
  {
   "cell_type": "code",
   "execution_count": null,
   "metadata": {},
   "outputs": [],
   "source": [
    "# Plot the top 25 players as per rating_per_gbp with a rating of 84 or over\n",
    "df_value_pace_top25 = df_value_pace.nlargest(25, 'rating_per_gbp')\n",
    "\n",
    "# Set the width and height of the figure\n",
    "plt.figure(figsize=(16,10))\n",
    "\n",
    "# Plot style\n",
    "sns.set_style(\"whitegrid\")\n",
    "\n",
    "# Add title\n",
    "plt.title(\"Top 25 players by Rating per GBP with Overall Rating of 84+ and 70+ Pace\")\n",
    "\n",
    "# Bar chart showing the top 25 players by Rating per GBP\n",
    "sns_plot_3 = sns.barplot(x = df_value_pace_top25['player_name'], y = df_value_pace_top25['rating_per_gbp'])\n",
    "\n",
    "# Add labels for axes\n",
    "plt.xlabel(\"Player Name\")\n",
    "plt.ylabel(\"Rating per GBP\")\n",
    "\n",
    "# Rotate xticks 90 degrees\n",
    "plt.xticks(rotation = 90)\n",
    "\n",
    "# Save plot\n",
    "fig_3 = sns_plot_3.get_figure()\n",
    "fig_3.savefig(\"./img/fig/top25_15mil_84+rating_70+pace.png\") "
   ]
  },
  {
   "cell_type": "markdown",
   "metadata": {},
   "source": [
    "##### Team Graphic"
   ]
  },
  {
   "cell_type": "markdown",
   "metadata": {},
   "source": [
    "![title](img/squads/valuepace.png)"
   ]
  },
  {
   "cell_type": "code",
   "execution_count": null,
   "metadata": {},
   "outputs": [],
   "source": [
    "# List all players selected\n",
    "first_xi = ['Manuel Neuer',\n",
    "            'Marcelo Vieira da Silva Júnior',\n",
    "            'Sergio Ramos García',\n",
    "            'Kostas Manolas',\n",
    "            'César Azpilicueta Tanco',\n",
    "            'Leon Goretzka',\n",
    "            'Alejandro Darío Gómez',\n",
    "            'Blaise Matuidi\t',\n",
    "            'Ivan Perišić',\n",
    "            'Edinson Roberto Cavani Gómez',\n",
    "            'José María Callejón Bueno']\n",
    "\n",
    "subsitutes = ['Sokratis Papastathopoulos',\n",
    "              'Axel Witsel',\n",
    "              'Douglas Costa de Souza',\n",
    "              'Edin Višća',\n",
    "              'Mesut Özil',\n",
    "              'Sergio Canales Madrazo',\n",
    "              'Dries Mertens']\n",
    "\n",
    "full_squad = first_xi + subsitutes"
   ]
  },
  {
   "cell_type": "code",
   "execution_count": null,
   "metadata": {},
   "outputs": [],
   "source": [
    "df_value_pace_squad = df_fifa_tm_joined[df_fifa_tm_joined['player_name'].isin(full_squad)]"
   ]
  },
  {
   "cell_type": "code",
   "execution_count": null,
   "metadata": {},
   "outputs": [],
   "source": [
    "df_value_pace_squad.head(18)"
   ]
  },
  {
   "cell_type": "code",
   "execution_count": null,
   "metadata": {},
   "outputs": [],
   "source": [
    "# Calculated Stats for the Value Pace squad\n",
    "squad_name = 'Value Pace'\n",
    "total_players = 18\n",
    "total_value_millions = round(((df_value_pace_squad['value_gbp'].sum())) / 1_000_000, 2)\n",
    "average_value_million = round(((df_value_pace_squad['value_gbp'].mean()) / 1_000_000), 2) \n",
    "average_rating = int(round(df_value_pace_squad['overall_fifa_rating'].mean(), 0))\n",
    "average_rating_average_price = round(((df_fifa_tm_joined_grouped[df_fifa_tm_joined_grouped['overall_fifa_rating'] == average_rating ]['average_value_gbp'].item()) / 1_000_000), 2)\n",
    "average_rating_average_squad_price = round((average_rating_average_price * total_players), 2)\n",
    "squad_saving = round((average_rating_average_squad_price - total_value_millions), 2)"
   ]
  },
  {
   "cell_type": "code",
   "execution_count": null,
   "metadata": {},
   "outputs": [],
   "source": [
    "# Print of of stats from this squad\n",
    "print(f\"• The total cost of the {total_players} man {squad_name} squad is £{total_value_millions}mil.\\n\"\n",
    "      f\"• The average player value in this squad is £{average_value_million}mil and the average player rating is {average_rating}.\\n\"\n",
    "      f\"• The average price of players of that rating is: £{average_rating_average_price}mil which would cost £{average_rating_average_squad_price}mil for an {total_players} man squad.\\n\"\n",
    "      f\"• This equates to a total saving of £{squad_saving}mil.\")"
   ]
  },
  {
   "cell_type": "markdown",
   "metadata": {},
   "source": [
    "<a id='section5.2.4'></a>"
   ]
  },
  {
   "cell_type": "markdown",
   "metadata": {},
   "source": [
    "#### 5.2.4 Elite Players at a Cut Price  (under £60mil, 85+ rating)\n",
    "Finally, we've seen the great value players such as Modric and Chiellini, but we want to build a team that's going to win matches again some of the best players in the game. For the final proposed squad, we'll be filtering players with a rating of 85+ and a value of £60 mil or less."
   ]
  },
  {
   "cell_type": "markdown",
   "metadata": {},
   "source": [
    "##### DataFrame"
   ]
  },
  {
   "cell_type": "code",
   "execution_count": null,
   "metadata": {},
   "outputs": [],
   "source": [
    "# Assign df_fifa_tm_joined DataFrame to a new DataFrame, df_value\n",
    "df_elite = df_fifa_tm_joined\n",
    "\n",
    "# Highly rated players only (rating of 85 or over, pace over 70 and a value less than £60mil)\n",
    "df_elite = df_elite.loc[(df_value['overall_fifa_rating'] >= 85) & (df_elite['pace'] >= 70) & (df_elite['value_gbp'] <= 60_000_000)]\n",
    "\n",
    "# Display the top 25 players as per rating_per_gbp with a rating of 85 or over and minimum 70 pace and a value less than £60mil\n",
    "df_elite.head(25)"
   ]
  },
  {
   "cell_type": "markdown",
   "metadata": {},
   "source": [
    "##### Visualisation"
   ]
  },
  {
   "cell_type": "code",
   "execution_count": null,
   "metadata": {},
   "outputs": [],
   "source": [
    "# Plot the top 25 players as per rating_per_gbp with a rating of 84 or over\n",
    "df_elite_top25 = df_elite.nlargest(25, 'rating_per_gbp')\n",
    "\n",
    "# Set the width and height of the figure\n",
    "plt.figure(figsize=(16,10))\n",
    "\n",
    "# Plot style\n",
    "sns.set_style(\"whitegrid\")\n",
    "\n",
    "# Add title\n",
    "plt.title(\"Top 25 players by Rating per GBP with Overall Rating of 84+ and 70+ Pace\")\n",
    "\n",
    "# Bar chart showing the top 25 players by Rating per GBP\n",
    "sns_plot_4 = sns.barplot(x = df_elite_top25['player_name'], y = df_elite_top25['rating_per_gbp'])\n",
    "\n",
    "# Add labels for axes\n",
    "plt.xlabel(\"Player Name\")\n",
    "plt.ylabel(\"Rating per GBP\")\n",
    "\n",
    "# Rotate xticks 90 degrees\n",
    "plt.xticks(rotation = 90)\n",
    "\n",
    "# Save plot\n",
    "fig_4 = sns_plot_4.get_figure()\n",
    "fig_4.savefig(\"./img/fig/top25_60mil_85+rating_70+pace.png\") "
   ]
  },
  {
   "cell_type": "markdown",
   "metadata": {},
   "source": [
    "##### Team Graphic"
   ]
  },
  {
   "cell_type": "markdown",
   "metadata": {},
   "source": [
    "![title](img/squads/elite.png)"
   ]
  },
  {
   "cell_type": "code",
   "execution_count": null,
   "metadata": {},
   "outputs": [],
   "source": [
    "# List all players selected\n",
    "first_xi = ['Manuel Neuer',\n",
    "            'Jordi Alba Ramos',\n",
    "            'Sergio Ramos García',\n",
    "            'Kalidou Koulibaly',\n",
    "            'Daniel Carvajal Ramos',\n",
    "            'Luka Modrić',\n",
    "            'Marco Reus',\n",
    "            'Allan Marques Loureiro',\n",
    "            'Lorenzo Insigne',\n",
    "            'Cristiano Ronaldo dos Santos Aveiro',\n",
    "            'Ángel Fabián Di María Hernández']\n",
    "\n",
    "subsitutes = ['Marcelo Vieira da Silva Júnior',\n",
    "              'Raphaël Varane',\n",
    "              'Blaise Matuidi',\n",
    "              'Gareth Frank Bale',\n",
    "              'Pierre-Emerick Aubameyang',\n",
    "              'Robert Lewandowski',\n",
    "              'Francisco Román Alarcón Suárez']\n",
    "\n",
    "full_squad = first_xi + subsitutes"
   ]
  },
  {
   "cell_type": "code",
   "execution_count": null,
   "metadata": {},
   "outputs": [],
   "source": [
    "df_elite_squad = df_fifa_tm_joined[df_fifa_tm_joined['player_name'].isin(full_squad)]"
   ]
  },
  {
   "cell_type": "code",
   "execution_count": null,
   "metadata": {},
   "outputs": [],
   "source": [
    "df_elite_squad.head(18)"
   ]
  },
  {
   "cell_type": "code",
   "execution_count": null,
   "metadata": {},
   "outputs": [],
   "source": [
    "# Calculated Stats for the Elite squad\n",
    "squad_name = 'Elite'\n",
    "total_players = 18\n",
    "total_value_millions = round(((df_elite_squad['value_gbp'].sum())) / 1_000_000, 2)\n",
    "average_value_million = round(((df_elite_squad['value_gbp'].mean()) / 1_000_000), 2) \n",
    "average_rating = int(round(df_elite_squad['overall_fifa_rating'].mean(), 0))\n",
    "average_rating_average_price = round(((df_fifa_tm_joined_grouped[df_fifa_tm_joined_grouped['overall_fifa_rating'] == average_rating ]['average_value_gbp'].item()) / 1_000_000), 2)\n",
    "average_rating_average_squad_price = round((average_rating_average_price * total_players), 2)\n",
    "squad_saving = round((average_rating_average_squad_price - total_value_millions), 2)"
   ]
  },
  {
   "cell_type": "code",
   "execution_count": null,
   "metadata": {},
   "outputs": [],
   "source": [
    "# Print of of stats from this squad\n",
    "print(f\"• The total cost of the {total_players} man {squad_name} squad is £{total_value_millions}mil.\\n\"\n",
    "      f\"• The average player value in this squad is £{average_value_million}mil and the average player rating is {average_rating}.\\n\"\n",
    "      f\"• The average price of players of that rating is: £{average_rating_average_price}mil which would cost £{average_rating_average_squad_price}mil for an {total_players} man squad.\\n\"\n",
    "      f\"• This equates to a total saving of £{squad_saving}mil.\")"
   ]
  },
  {
   "cell_type": "markdown",
   "metadata": {},
   "source": [
    "<a id='section5.3'></a>"
   ]
  },
  {
   "cell_type": "markdown",
   "metadata": {},
   "source": [
    "<a id='section6'></a>"
   ]
  },
  {
   "cell_type": "markdown",
   "metadata": {},
   "source": [
    "## 6. Summary"
   ]
  },
  {
   "cell_type": "markdown",
   "metadata": {},
   "source": [
    "In this workbook, we have taken two data sources of [FIFA 20](https://www.ea.com/en-gb/games/fifa/fifa-20) and [TransferMarkt](https://www.transfermarkt.co.uk/) data, to analyse and explore the statistics of all the footballers and build the most effective, best-value squad possible with the corresponding real-world player values. During this proces, we have done the following:\n",
    "*    Scraped data from the web using [Beautifulsoup](https://www.crummy.com/software/BeautifulSoup/bs4/doc/) and imported the data as a [pandas](http://pandas.pydata.org/) DataFrame. This DataFrame then required significant cleaning and organising.\n",
    "*    Merged the data from [TransferMarkt](https://www.transfermarkt.co.uk/) to the [FIFA 20](https://www.ea.com/en-gb/games/fifa/fifa-20) dataset using [fuzzymatcher](https://github.com/RobinL/fuzzymatcher).\n",
    "*    Created a metric to determine the best-value players - Rating per GBP, to determine the players with high-ratings but relatively cheap values.\n",
    "*    Created visualisations of the top 25 best-value players using [Seaborn](https://seaborn.pydata.org/).\n",
    "*    Used the data to determine several hypothetical squads of players.\n",
    "\n",
    "Using the data and analysis conducts, the best value players for a [FIFA 20](https://www.ea.com/en-gb/games/fifa/fifa-20) fantasy league have been determined as the following, ordered by rating per £. All these players are rated over 87 and cost less than £20mil:\n",
    "\n",
    "| No.     | Player     | Position     | Rating     | [TransferMarkt](https://www.transfermarkt.co.uk/) Value     | Rating per £     |\n",
    "|------|-----|-----|-----|-----|-----|\n",
    "| 1.     | Giorgio Chiellini    | CB     | 89     | £3.60mil     | 0.00002472     |\n",
    "| 2.     | Samir Handanovič    | GK     | 88     | £4.32mil     | 0.00002037     |\n",
    "| 3.     | Thiago Emiliano da Silva    | CB     | 87     | £4.32mil     | 0.00002014     |\n",
    "| 4.     | Diego Godín    | CB     | 88     | £7.20mil     | 0.00001222     |\n",
    "| 5.     | Keylor Navas    | GK     | 88     | £7.20mil     | 0.00001208     |\n",
    "| 6.     | Fernandinho    | CM     | 87     | £7.20mil     | 0.00001208     |\n",
    "| 7.     | Luka Modrić    | CM     | 90     | £10.80mil     | 0.000008333    |\n",
    "| 8.     | David Josué Jiménez Silva    | CAM     | 88     | £10.80mil     | 0.000008148     |\n",
    "| 9.     | Sergio Ramos García    | CB     | 89     | £13.05mil     | 0.000006820     |\n",
    "| 10.     | Hugo Lloris    | GK     | 88     | £13.05mil     | 0.000006743     |\n",
    "| 11.     | Manuel Neuer    | GK     | 88     | £13.05mil     | 0.000006743     |\n",
    "| 12.     | Jan Vertonghen    | CB     | 87     | £13.05mil     | 0.000006667     |\n",
    "| 13.     | Gerard Piqué Bernabéu    | CB     | 88     | £18.00mil     | 0.000004889     |\n",
    "| 14.     | Edinson Roberto Cavani Gómez    | ST     | 88     | £18.00mil     | 0.000004889     |\n",
    "| 15.     | Dries Mertens     | ST     | 87     | £18.00mil     | 0.000004833     |\n",
    "\n",
    "\n",
    "The following are also excellent value for money player, all rated over 85 and cost less than £15mil:\n",
    "\n",
    "| No.     | Player     | Position     | Rating     | [TransferMarkt](https://www.transfermarkt.co.uk/) Value     | Rating per £     |\n",
    "|------|-----|-----|-----|-----|-----|\n",
    "| 1.     | Zlatan Ibrahimović    | ST     | 85     | £2.52mil     | 0.000033730     |\n",
    "| 2.     | Péter Gulácsi    | GK     | 85     | £8.55mil     | 0.000009942     |\n",
    "| 3.     | Blaise Matuidi    | CDM     | 85     | £9.45mil     | 0.000008995     |\n",
    "| 4.     | Roman Bürki    | GK     | 85     | £9.90mil     | 0.000008586     |\n",
    "| 5.     | Alejandro Darío Gómez    | CAM     | 85     | £11.70mil     | 0.000007265     |\n",
    "| 6.     | Norberto Murara Neto    | GK     | 85     | £13.05mil     | 0.000006513     |\n",
    "| 7.     | Marcelo Vieira da Silva Júnior    | LB     | 85     | £14.40mil     | 0.000005903    |\n",
    "| 8.     | Iago Aspas Juncal    | ST     | 85     | £14.40mil     | 0.000005903     |\n",
    "\n",
    "\n",
    "Finally, it should also be noted that in [FIFA 20](https://www.ea.com/en-gb/games/fifa/fifa-20), Cristiano Ronaldo is an extremely effectively player and at £54mil with a 93, is extremely good value for money. This finding leads me to confirm that there is much more that can be done for a fully competent analysis, with possibility of further analysis of metrics such a pace, finishing, strength, and also community ratings from websites such as [Futhead](https://www.futhead.com/)/[futbin](https://www.futbin.com/)/[Sofifa](https://sofifa.com/).\n",
    "\n",
    "Using all this data, I have created below the ideal squad that I would create with a budget of £300mil. This squad costs £291.31mil and is a mix of good excellent value-for-money, an excellent goalkeeper, a balanced midfield, pace and quality in forward areas, and finally in Cristiano Ronaldo, one of the best players in the game at £54mil. I thrown in a few different choices for players that are personal favourites of mine, such as Search Luis Advíncula and Adebayo Akinfenwa. My critisms of this squad is that it maybe lacks a true number 10 such as David Silva and maybe pace off the bench in another forward/winger with 90+ pace."
   ]
  },
  {
   "cell_type": "markdown",
   "metadata": {},
   "source": [
    "![title](img/squads/selected.png)"
   ]
  },
  {
   "cell_type": "markdown",
   "metadata": {},
   "source": [
    "<a id='section7'></a>"
   ]
  },
  {
   "cell_type": "markdown",
   "metadata": {},
   "source": [
    "## 7. Next Steps\n",
    "Some of the next steps I have recommendations for improving the notebook include:\n",
    "*    Including misses players. Upon writing this notebook, players like Danielle De Rossi are retired in real life but are still present in the current version of FIFA. These players could be classed as 'free agents' in a Fantasy Football league and would be highly coveted squad players.\n",
    "*    One hot encode the player positions data from the FIFA dataset that could be used to automate the selection of the best/cheapest team i.e. automatically select the cheapest/best-value player for each position depending on the predefined filters. In my workbook, I have manually decided which players I liked using the output DataFrames. This would automate this step.\n",
    "*    Remove unlicensed players that are not applicable to be assigned a real world value to improve player matching process.\n",
    "*    Look to join other datasets e.g. [Futhead](https://www.futhead.com/)/[futbin](https://www.futbin.com/)/[Sofifa](https://sofifa.com/) ultimate team databases. High-rated players by the community could be ways to find the overpowered players on a budget."
   ]
  },
  {
   "cell_type": "markdown",
   "metadata": {},
   "source": [
    "<a id='section8'></a>"
   ]
  },
  {
   "cell_type": "markdown",
   "metadata": {},
   "source": [
    "## 8. References"
   ]
  },
  {
   "cell_type": "markdown",
   "metadata": {},
   "source": [
    "<a id='section8.1'></a>"
   ]
  },
  {
   "cell_type": "markdown",
   "metadata": {},
   "source": [
    "### 8.1. Bibliography\n",
    "*    [Kaggle FIFA 20 Complete dataset](https://www.kaggle.com/stefanoleone992/fifa-20-complete-player-dataset) by [Stefano Leone](https://www.kaggle.com/stefanoleone992).\n",
    "*    [Beyond crowd judgments: Data-driven estimation of market value in association football](https://www.sciencedirect.com/science/article/pii/S0377221717304332) by Oliver Müllera, Alexander Simons, and Markus Weinmann.\n",
    "*    [06/04/2020: BBC - Premier League squads 'drop £1.6bn in value'](https://www.bbc.co.uk/sport/football/52221463).\n",
    "*    [Python Tools for Record Linking and Fuzzy Matching](https://pbpython.com/record-linking.html). For more information for record linking and fuzzy matching.\n",
    "*    [FIFA 20 Player Cards](https://www.fifauteam.com/fifa-20-players-cards-guide/).\n",
    "*    [Futhead Squad Builder](https://www.futhead.com/squad-builder/)."
   ]
  },
  {
   "cell_type": "markdown",
   "metadata": {},
   "source": [
    "<a id='section8.2'></a>"
   ]
  },
  {
   "cell_type": "markdown",
   "metadata": {},
   "source": [
    "### 8.2. Python Techniques Observed\n",
    "To conduct our analysis, we have used the following libraries and modules for the following tasks:\n",
    "*    [NumPy](http://www.numpy.org/) for multidimensional array computing,\n",
    "*    [pandas](http://pandas.pydata.org/) for data manipulation and ingestion,\n",
    "*    [Seaborn](https://seaborn.pydata.org/) for plotting visualisations,\n",
    "*    [Beautifulsoup](https://www.crummy.com/software/BeautifulSoup/bs4/doc/) for scraping data from webpages, and\n",
    "*    [fuzzymatcher](https://github.com/RobinL/fuzzymatcher) for linking fuzzy datasets.\n",
    "\n",
    "We have also demonstrated an array of techniques in Python using the following methods and functions:\n",
    "*    pandas EDA methods:\n",
    "     +    [head()](https://pandas.pydata.org/pandas-docs/stable/reference/api/pandas.DataFrame.head.html),\n",
    "     +    [tail()](https://pandas.pydata.org/pandas-docs/stable/reference/api/pandas.DataFrame.tail.html),\n",
    "     +    [shape](https://pandas.pydata.org/pandas-docs/stable/reference/api/pandas.DataFrame.dtypes.html),\n",
    "     +    [columns](https://pandas.pydata.org/pandas-docs/stable/reference/api/pandas.DataFrame.columns.html),\n",
    "     +    [dtypes](https://pandas.pydata.org/pandas-docs/stable/reference/api/pandas.DataFrame.dtypes.html),\n",
    "     +    [info](https://pandas.pydata.org/pandas-docs/stable/reference/api/pandas.DataFrame.info.html), and\n",
    "     +    [describe](https://pandas.pydata.org/pandas-docs/stable/reference/api/pandas.DataFrame.describe.html).\n",
    "*    The [missingno](https://pypi.org/project/missingno/) library to visualise how many missing values we have in the dataset, and\n",
    "*    The pandas [.to_csv()](https://pandas.pydata.org/pandas-docs/stable/reference/api/pandas.DataFrame.to_csv.html) method to export the DataFrames as csv files."
   ]
  },
  {
   "cell_type": "markdown",
   "metadata": {},
   "source": [
    "***Visit my website [eddwebster.com](https://www.eddwebster.com) or my [GitHub Repository](https://github.com/eddwebster) for more projects. If you'd like to get in contact, my email is: edd.j.webster@gmail.com.***"
   ]
  },
  {
   "cell_type": "markdown",
   "metadata": {},
   "source": [
    "[Back to the top](#top)"
   ]
  }
 ],
 "metadata": {
  "kernelspec": {
   "display_name": "Python 3",
   "language": "python",
   "name": "python3"
  },
  "language_info": {
   "codemirror_mode": {
    "name": "ipython",
    "version": 3
   },
   "file_extension": ".py",
   "mimetype": "text/x-python",
   "name": "python",
   "nbconvert_exporter": "python",
   "pygments_lexer": "ipython3",
   "version": "3.7.6"
  }
 },
 "nbformat": 4,
 "nbformat_minor": 2
}
